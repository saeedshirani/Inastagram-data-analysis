{
 "cells": [
  {
   "cell_type": "code",
   "execution_count": 1,
   "metadata": {},
   "outputs": [],
   "source": [
    "import pandas as pd\n",
    "import numpy as np \n",
    "import seaborn as sns\n",
    "import matplotlib.pyplot as plt"
   ]
  },
  {
   "cell_type": "code",
   "execution_count": 13,
   "metadata": {},
   "outputs": [
    {
     "name": "stderr",
     "output_type": "stream",
     "text": [
      "Some weights of the PyTorch model were not used when initializing the TF 2.0 model TFXLMRobertaForSequenceClassification: ['roberta.embeddings.position_ids']\n",
      "- This IS expected if you are initializing TFXLMRobertaForSequenceClassification from a PyTorch model trained on another task or with another architecture (e.g. initializing a TFBertForSequenceClassification model from a BertForPreTraining model).\n",
      "- This IS NOT expected if you are initializing TFXLMRobertaForSequenceClassification from a PyTorch model that you expect to be exactly identical (e.g. initializing a TFBertForSequenceClassification model from a BertForSequenceClassification model).\n",
      "All the weights of TFXLMRobertaForSequenceClassification were initialized from the PyTorch model.\n",
      "If your task is similar to the task the model of the checkpoint was trained on, you can already use TFXLMRobertaForSequenceClassification for predictions without further training.\n"
     ]
    },
    {
     "data": {
      "text/plain": [
       "[[{'label': 'ur', 'score': 0.2073480784893036},\n",
       "  {'label': 'ru', 'score': 0.08330418169498444}]]"
      ]
     },
     "execution_count": 13,
     "metadata": {},
     "output_type": "execute_result"
    }
   ],
   "source": [
    "from transformers import pipeline\n",
    "\n",
    "text = [\n",
    "    \"\"\"¡Animando en #Guayaquil! 🩵\n",
    "\n",
    "Este fue el proceso: \n",
    "\n",
    "1. Grabé la calle 🎥\n",
    "2. Me grabé como referencia\n",
    "3.  Usé mi referencia para hacer un sketch rápido\n",
    "4. El sketch me sirvió como guía para los cuadros finales ✍️\n",
    "La animación fue creada en #RoughAnimator y la composición final fue hecha en #AfterEffects 😎\n",
    "\n",
    "🍎 #ThinkEcuador\n",
    "\n",
    "———-\n",
    "\n",
    "Animating in Guayaquil! 🩵\n",
    "\n",
    "This was the process:\n",
    "\n",
    "1. I recorded the street 🎥\n",
    "2. I recorded myself as a reference\n",
    "3. I used my reference to make a quick sketch.\n",
    "4. I used the sketch as a guide for the clean frames ✍️\n",
    "\n",
    "The animation was created in #RoughAnimator and the final composition was made in #AfterEffects 😎.\"\n",
    "\"\"\",\n",
    "]\n",
    "\n",
    "model_ckpt = \"papluca/xlm-roberta-base-language-detection\"\n",
    "pipe = pipeline(\"text-classification\", model=model_ckpt)\n",
    "pipe(text, top_k=1, truncation=True)"
   ]
  },
  {
   "cell_type": "code",
   "execution_count": null,
   "metadata": {},
   "outputs": [],
   "source": []
  }
 ],
 "metadata": {
  "kernelspec": {
   "display_name": "Python 3",
   "language": "python",
   "name": "python3"
  },
  "language_info": {
   "codemirror_mode": {
    "name": "ipython",
    "version": 3
   },
   "file_extension": ".py",
   "mimetype": "text/x-python",
   "name": "python",
   "nbconvert_exporter": "python",
   "pygments_lexer": "ipython3",
   "version": "3.11.0"
  }
 },
 "nbformat": 4,
 "nbformat_minor": 2
}
