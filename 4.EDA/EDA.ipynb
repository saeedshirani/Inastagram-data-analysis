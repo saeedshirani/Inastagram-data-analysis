{
 "cells": [
  {
   "cell_type": "code",
   "execution_count": 54,
   "metadata": {},
   "outputs": [],
   "source": [
    "import matplotlib.pyplot as plt\n",
    "import seaborn as sns\n",
    "import pandas as pd\n",
    "import numpy as np "
   ]
  },
  {
   "cell_type": "markdown",
   "metadata": {},
   "source": [
    "# Loading Data the Locational Data"
   ]
  },
  {
   "cell_type": "code",
   "execution_count": 55,
   "metadata": {},
   "outputs": [
    {
     "data": {
      "text/html": [
       "<div>\n",
       "<style scoped>\n",
       "    .dataframe tbody tr th:only-of-type {\n",
       "        vertical-align: middle;\n",
       "    }\n",
       "\n",
       "    .dataframe tbody tr th {\n",
       "        vertical-align: top;\n",
       "    }\n",
       "\n",
       "    .dataframe thead th {\n",
       "        text-align: right;\n",
       "    }\n",
       "</style>\n",
       "<table border=\"1\" class=\"dataframe\">\n",
       "  <thead>\n",
       "    <tr style=\"text-align: right;\">\n",
       "      <th></th>\n",
       "      <th>owner_id</th>\n",
       "      <th>owner_username</th>\n",
       "      <th>shortcode</th>\n",
       "      <th>is_video</th>\n",
       "      <th>caption</th>\n",
       "      <th>comments</th>\n",
       "      <th>likes</th>\n",
       "      <th>created_at</th>\n",
       "      <th>location</th>\n",
       "      <th>imageUrl</th>\n",
       "      <th>multiple_images</th>\n",
       "      <th>username</th>\n",
       "      <th>followers</th>\n",
       "      <th>following</th>\n",
       "      <th>caption_emotions</th>\n",
       "      <th>most_powerful_emotion</th>\n",
       "      <th>emotion_score</th>\n",
       "    </tr>\n",
       "  </thead>\n",
       "  <tbody>\n",
       "    <tr>\n",
       "      <th>0</th>\n",
       "      <td>40506412</td>\n",
       "      <td>christinehmcconnell</td>\n",
       "      <td>CzJtDjegmdI</td>\n",
       "      <td>False</td>\n",
       "      <td>Had an amazing time in #salem for Halloween th...</td>\n",
       "      <td>466</td>\n",
       "      <td>79000</td>\n",
       "      <td>1.698945e+09</td>\n",
       "      <td>salem-massachusetts</td>\n",
       "      <td>https://instagram.ffor43-1.fna.fbcdn.net/v/t39...</td>\n",
       "      <td>True</td>\n",
       "      <td>christinehmcconnell</td>\n",
       "      <td>597189.0</td>\n",
       "      <td>1576.0</td>\n",
       "      <td>{'neg': 0.020397255, 'neu': 0.08311723, 'pos':...</td>\n",
       "      <td>pos</td>\n",
       "      <td>0.896486</td>\n",
       "    </tr>\n",
       "  </tbody>\n",
       "</table>\n",
       "</div>"
      ],
      "text/plain": [
       "   owner_id       owner_username    shortcode  is_video  \\\n",
       "0  40506412  christinehmcconnell  CzJtDjegmdI     False   \n",
       "\n",
       "                                             caption  comments  likes  \\\n",
       "0  Had an amazing time in #salem for Halloween th...       466  79000   \n",
       "\n",
       "     created_at             location  \\\n",
       "0  1.698945e+09  salem-massachusetts   \n",
       "\n",
       "                                            imageUrl  multiple_images  \\\n",
       "0  https://instagram.ffor43-1.fna.fbcdn.net/v/t39...             True   \n",
       "\n",
       "              username  followers  following  \\\n",
       "0  christinehmcconnell   597189.0     1576.0   \n",
       "\n",
       "                                    caption_emotions most_powerful_emotion  \\\n",
       "0  {'neg': 0.020397255, 'neu': 0.08311723, 'pos':...                   pos   \n",
       "\n",
       "   emotion_score  \n",
       "0       0.896486  "
      ]
     },
     "execution_count": 55,
     "metadata": {},
     "output_type": "execute_result"
    }
   ],
   "source": [
    "locational_data = pd.read_csv('../3.Prepared Data/locational_data.csv')\n",
    "locational_data.head(1)"
   ]
  },
  {
   "cell_type": "code",
   "execution_count": 56,
   "metadata": {},
   "outputs": [
    {
     "data": {
      "text/html": [
       "<div>\n",
       "<style scoped>\n",
       "    .dataframe tbody tr th:only-of-type {\n",
       "        vertical-align: middle;\n",
       "    }\n",
       "\n",
       "    .dataframe tbody tr th {\n",
       "        vertical-align: top;\n",
       "    }\n",
       "\n",
       "    .dataframe thead th {\n",
       "        text-align: right;\n",
       "    }\n",
       "</style>\n",
       "<table border=\"1\" class=\"dataframe\">\n",
       "  <thead>\n",
       "    <tr style=\"text-align: right;\">\n",
       "      <th></th>\n",
       "      <th>owner_id</th>\n",
       "      <th>owner_username</th>\n",
       "      <th>shortcode</th>\n",
       "      <th>is_video</th>\n",
       "      <th>caption</th>\n",
       "      <th>comments</th>\n",
       "      <th>likes</th>\n",
       "      <th>created_at</th>\n",
       "      <th>imageUrl</th>\n",
       "      <th>multiple_images</th>\n",
       "      <th>username</th>\n",
       "      <th>followers</th>\n",
       "      <th>following</th>\n",
       "      <th>caption_emotions</th>\n",
       "      <th>most_powerful_emotion</th>\n",
       "      <th>emotion_score</th>\n",
       "    </tr>\n",
       "  </thead>\n",
       "  <tbody>\n",
       "    <tr>\n",
       "      <th>0</th>\n",
       "      <td>36063641</td>\n",
       "      <td>christendominique</td>\n",
       "      <td>C3_GS1ASeWI</td>\n",
       "      <td>False</td>\n",
       "      <td>I’m a brunch &amp; Iced Coffee girlie☕️🍳 \\n\\nTop @...</td>\n",
       "      <td>268</td>\n",
       "      <td>16382</td>\n",
       "      <td>1.709327e+09</td>\n",
       "      <td>https://instagram.flba2-1.fna.fbcdn.net/v/t39....</td>\n",
       "      <td>True</td>\n",
       "      <td>christendominique</td>\n",
       "      <td>2144626.0</td>\n",
       "      <td>1021.0</td>\n",
       "      <td>{'neg': 0.034616627, 'neu': 0.6108251, 'pos': ...</td>\n",
       "      <td>neu</td>\n",
       "      <td>0.610825</td>\n",
       "    </tr>\n",
       "  </tbody>\n",
       "</table>\n",
       "</div>"
      ],
      "text/plain": [
       "   owner_id     owner_username    shortcode  is_video  \\\n",
       "0  36063641  christendominique  C3_GS1ASeWI     False   \n",
       "\n",
       "                                             caption  comments  likes  \\\n",
       "0  I’m a brunch & Iced Coffee girlie☕️🍳 \\n\\nTop @...       268  16382   \n",
       "\n",
       "     created_at                                           imageUrl  \\\n",
       "0  1.709327e+09  https://instagram.flba2-1.fna.fbcdn.net/v/t39....   \n",
       "\n",
       "   multiple_images           username  followers  following  \\\n",
       "0             True  christendominique  2144626.0     1021.0   \n",
       "\n",
       "                                    caption_emotions most_powerful_emotion  \\\n",
       "0  {'neg': 0.034616627, 'neu': 0.6108251, 'pos': ...                   neu   \n",
       "\n",
       "   emotion_score  \n",
       "0       0.610825  "
      ]
     },
     "execution_count": 56,
     "metadata": {},
     "output_type": "execute_result"
    }
   ],
   "source": [
    "non_locational_data = pd.read_csv('../3.Prepared Data/non_locational_data.csv')\n",
    "non_locational_data.head(1)"
   ]
  },
  {
   "cell_type": "markdown",
   "metadata": {},
   "source": [
    "# Handlings Duplicates"
   ]
  },
  {
   "cell_type": "code",
   "execution_count": 60,
   "metadata": {},
   "outputs": [],
   "source": [
    "non_locational_data.drop_duplicates(inplace=True)\n",
    "locational_data.drop_duplicates(inplace=True)"
   ]
  },
  {
   "cell_type": "markdown",
   "metadata": {},
   "source": [
    "# looking at DataTypes "
   ]
  },
  {
   "cell_type": "code",
   "execution_count": 61,
   "metadata": {},
   "outputs": [
    {
     "data": {
      "text/plain": [
       "(2784, 17)"
      ]
     },
     "execution_count": 61,
     "metadata": {},
     "output_type": "execute_result"
    }
   ],
   "source": [
    "locational_data.shape"
   ]
  },
  {
   "cell_type": "code",
   "execution_count": 62,
   "metadata": {},
   "outputs": [
    {
     "data": {
      "text/plain": [
       "(6844, 16)"
      ]
     },
     "execution_count": 62,
     "metadata": {},
     "output_type": "execute_result"
    }
   ],
   "source": [
    "non_locational_data.shape"
   ]
  },
  {
   "cell_type": "code",
   "execution_count": 63,
   "metadata": {},
   "outputs": [
    {
     "name": "stdout",
     "output_type": "stream",
     "text": [
      "<class 'pandas.core.frame.DataFrame'>\n",
      "Index: 6844 entries, 0 to 9440\n",
      "Data columns (total 16 columns):\n",
      " #   Column                 Non-Null Count  Dtype  \n",
      "---  ------                 --------------  -----  \n",
      " 0   owner_id               6844 non-null   int64  \n",
      " 1   owner_username         6844 non-null   object \n",
      " 2   shortcode              6844 non-null   object \n",
      " 3   is_video               6844 non-null   bool   \n",
      " 4   caption                6844 non-null   object \n",
      " 5   comments               6844 non-null   int64  \n",
      " 6   likes                  6844 non-null   int64  \n",
      " 7   created_at             6844 non-null   float64\n",
      " 8   imageUrl               6844 non-null   object \n",
      " 9   multiple_images        6844 non-null   bool   \n",
      " 10  username               6844 non-null   object \n",
      " 11  followers              6844 non-null   float64\n",
      " 12  following              6844 non-null   float64\n",
      " 13  caption_emotions       6844 non-null   object \n",
      " 14  most_powerful_emotion  6844 non-null   object \n",
      " 15  emotion_score          6844 non-null   float64\n",
      "dtypes: bool(2), float64(4), int64(3), object(7)\n",
      "memory usage: 815.4+ KB\n",
      "None\n"
     ]
    }
   ],
   "source": [
    "# print(locational_data.info())\n",
    "print(non_locational_data.info())"
   ]
  },
  {
   "cell_type": "markdown",
   "metadata": {},
   "source": [
    "Looking good. This data is already clean, so I'll proceed with visualization straight away."
   ]
  },
  {
   "cell_type": "markdown",
   "metadata": {},
   "source": [
    "---------------\n",
    "\n"
   ]
  },
  {
   "cell_type": "markdown",
   "metadata": {},
   "source": [
    "# Analysis Based on User"
   ]
  },
  {
   "cell_type": "markdown",
   "metadata": {},
   "source": [
    "in this part i will look at activities of one of most active account is this dataset. to find most active account:"
   ]
  },
  {
   "cell_type": "code",
   "execution_count": 64,
   "metadata": {},
   "outputs": [
    {
     "data": {
      "text/html": [
       "<div>\n",
       "<style scoped>\n",
       "    .dataframe tbody tr th:only-of-type {\n",
       "        vertical-align: middle;\n",
       "    }\n",
       "\n",
       "    .dataframe tbody tr th {\n",
       "        vertical-align: top;\n",
       "    }\n",
       "\n",
       "    .dataframe thead th {\n",
       "        text-align: right;\n",
       "    }\n",
       "</style>\n",
       "<table border=\"1\" class=\"dataframe\">\n",
       "  <thead>\n",
       "    <tr style=\"text-align: right;\">\n",
       "      <th></th>\n",
       "      <th>caption</th>\n",
       "    </tr>\n",
       "    <tr>\n",
       "      <th>owner_username</th>\n",
       "      <th></th>\n",
       "    </tr>\n",
       "  </thead>\n",
       "  <tbody>\n",
       "    <tr>\n",
       "      <th>mensfashions</th>\n",
       "      <td>37</td>\n",
       "    </tr>\n",
       "    <tr>\n",
       "      <th>enjoyphoenix</th>\n",
       "      <td>24</td>\n",
       "    </tr>\n",
       "    <tr>\n",
       "      <th>emilyskyefit</th>\n",
       "      <td>22</td>\n",
       "    </tr>\n",
       "  </tbody>\n",
       "</table>\n",
       "</div>"
      ],
      "text/plain": [
       "                caption\n",
       "owner_username         \n",
       "mensfashions         37\n",
       "enjoyphoenix         24\n",
       "emilyskyefit         22"
      ]
     },
     "execution_count": 64,
     "metadata": {},
     "output_type": "execute_result"
    }
   ],
   "source": [
    "non_locational_data.groupby(by=\"owner_username\").agg({\"caption\" : \"count\"}).sort_values(by=\"caption\" ,ascending=False).head(3)"
   ]
  },
  {
   "cell_type": "markdown",
   "metadata": {},
   "source": [
    "most active account in this dataset is account with username `mensfashions`. as you see there are over 30 posts of this account in this dataset; so by looking at activities of this account we can predict next activities of this account.\n",
    "\n",
    "this account is a perfect account for this objective, it has high number of followers (around `1.9 M`) and following a low number of following (just `11 accounts`)"
   ]
  },
  {
   "cell_type": "code",
   "execution_count": 66,
   "metadata": {},
   "outputs": [
    {
     "name": "stderr",
     "output_type": "stream",
     "text": [
      "C:\\Users\\saeed\\AppData\\Local\\Temp\\ipykernel_6652\\3616988648.py:2: SettingWithCopyWarning: \n",
      "A value is trying to be set on a copy of a slice from a DataFrame.\n",
      "Try using .loc[row_indexer,col_indexer] = value instead\n",
      "\n",
      "See the caveats in the documentation: https://pandas.pydata.org/pandas-docs/stable/user_guide/indexing.html#returning-a-view-versus-a-copy\n",
      "  mensfashions[\"date\"] = pd.to_datetime(mensfashions['created_at'], unit='s').dt.date\n",
      "C:\\Users\\saeed\\AppData\\Local\\Temp\\ipykernel_6652\\3616988648.py:3: SettingWithCopyWarning: \n",
      "A value is trying to be set on a copy of a slice from a DataFrame.\n",
      "Try using .loc[row_indexer,col_indexer] = value instead\n",
      "\n",
      "See the caveats in the documentation: https://pandas.pydata.org/pandas-docs/stable/user_guide/indexing.html#returning-a-view-versus-a-copy\n",
      "  mensfashions[\"time\"] = pd.to_datetime(mensfashions['created_at'], unit='s').dt.time\n"
     ]
    },
    {
     "data": {
      "text/html": [
       "<div>\n",
       "<style scoped>\n",
       "    .dataframe tbody tr th:only-of-type {\n",
       "        vertical-align: middle;\n",
       "    }\n",
       "\n",
       "    .dataframe tbody tr th {\n",
       "        vertical-align: top;\n",
       "    }\n",
       "\n",
       "    .dataframe thead th {\n",
       "        text-align: right;\n",
       "    }\n",
       "</style>\n",
       "<table border=\"1\" class=\"dataframe\">\n",
       "  <thead>\n",
       "    <tr style=\"text-align: right;\">\n",
       "      <th></th>\n",
       "      <th>owner_id</th>\n",
       "      <th>owner_username</th>\n",
       "      <th>shortcode</th>\n",
       "      <th>is_video</th>\n",
       "      <th>caption</th>\n",
       "      <th>comments</th>\n",
       "      <th>likes</th>\n",
       "      <th>created_at</th>\n",
       "      <th>imageUrl</th>\n",
       "      <th>multiple_images</th>\n",
       "      <th>username</th>\n",
       "      <th>followers</th>\n",
       "      <th>following</th>\n",
       "      <th>caption_emotions</th>\n",
       "      <th>most_powerful_emotion</th>\n",
       "      <th>emotion_score</th>\n",
       "      <th>date</th>\n",
       "      <th>time</th>\n",
       "    </tr>\n",
       "  </thead>\n",
       "  <tbody>\n",
       "    <tr>\n",
       "      <th>1416</th>\n",
       "      <td>184378318</td>\n",
       "      <td>mensfashions</td>\n",
       "      <td>C3U-uVbt0SL</td>\n",
       "      <td>False</td>\n",
       "      <td>Suit up Inspo 🔥 by @artworth_brothers</td>\n",
       "      <td>5</td>\n",
       "      <td>2307</td>\n",
       "      <td>1.707914e+09</td>\n",
       "      <td>https://instagram.flhr13-1.fna.fbcdn.net/v/t51...</td>\n",
       "      <td>True</td>\n",
       "      <td>mensfashions</td>\n",
       "      <td>1957620.0</td>\n",
       "      <td>11.0</td>\n",
       "      <td>{'neg': 0.034818787, 'neu': 0.32848975, 'pos':...</td>\n",
       "      <td>pos</td>\n",
       "      <td>0.636691</td>\n",
       "      <td>2024-02-14</td>\n",
       "      <td>12:25:03</td>\n",
       "    </tr>\n",
       "    <tr>\n",
       "      <th>1417</th>\n",
       "      <td>184378318</td>\n",
       "      <td>mensfashions</td>\n",
       "      <td>C3IhWn1t_mM</td>\n",
       "      <td>True</td>\n",
       "      <td>Channeling the inner dad ☕️</td>\n",
       "      <td>14</td>\n",
       "      <td>2507</td>\n",
       "      <td>1.707495e+09</td>\n",
       "      <td>https://instagram.flhr13-1.fna.fbcdn.net/v/t51...</td>\n",
       "      <td>False</td>\n",
       "      <td>mensfashions</td>\n",
       "      <td>1957620.0</td>\n",
       "      <td>11.0</td>\n",
       "      <td>{'neg': 0.046530932, 'neu': 0.50175273, 'pos':...</td>\n",
       "      <td>neu</td>\n",
       "      <td>0.501753</td>\n",
       "      <td>2024-02-09</td>\n",
       "      <td>16:18:19</td>\n",
       "    </tr>\n",
       "    <tr>\n",
       "      <th>1418</th>\n",
       "      <td>184378318</td>\n",
       "      <td>mensfashions</td>\n",
       "      <td>C3FVQcZNPFe</td>\n",
       "      <td>False</td>\n",
       "      <td>Italian style inspiration 🇮🇹</td>\n",
       "      <td>5</td>\n",
       "      <td>1566</td>\n",
       "      <td>1.707388e+09</td>\n",
       "      <td>https://instagram.flhr13-1.fna.fbcdn.net/v/t51...</td>\n",
       "      <td>True</td>\n",
       "      <td>mensfashions</td>\n",
       "      <td>1957620.0</td>\n",
       "      <td>11.0</td>\n",
       "      <td>{'neg': 0.03071826, 'neu': 0.14121525, 'pos': ...</td>\n",
       "      <td>pos</td>\n",
       "      <td>0.828066</td>\n",
       "      <td>2024-02-08</td>\n",
       "      <td>10:34:06</td>\n",
       "    </tr>\n",
       "  </tbody>\n",
       "</table>\n",
       "</div>"
      ],
      "text/plain": [
       "       owner_id owner_username    shortcode  is_video  \\\n",
       "1416  184378318   mensfashions  C3U-uVbt0SL     False   \n",
       "1417  184378318   mensfashions  C3IhWn1t_mM      True   \n",
       "1418  184378318   mensfashions  C3FVQcZNPFe     False   \n",
       "\n",
       "                                    caption  comments  likes    created_at  \\\n",
       "1416  Suit up Inspo 🔥 by @artworth_brothers         5   2307  1.707914e+09   \n",
       "1417            Channeling the inner dad ☕️        14   2507  1.707495e+09   \n",
       "1418           Italian style inspiration 🇮🇹         5   1566  1.707388e+09   \n",
       "\n",
       "                                               imageUrl  multiple_images  \\\n",
       "1416  https://instagram.flhr13-1.fna.fbcdn.net/v/t51...             True   \n",
       "1417  https://instagram.flhr13-1.fna.fbcdn.net/v/t51...            False   \n",
       "1418  https://instagram.flhr13-1.fna.fbcdn.net/v/t51...             True   \n",
       "\n",
       "          username  followers  following  \\\n",
       "1416  mensfashions  1957620.0       11.0   \n",
       "1417  mensfashions  1957620.0       11.0   \n",
       "1418  mensfashions  1957620.0       11.0   \n",
       "\n",
       "                                       caption_emotions most_powerful_emotion  \\\n",
       "1416  {'neg': 0.034818787, 'neu': 0.32848975, 'pos':...                   pos   \n",
       "1417  {'neg': 0.046530932, 'neu': 0.50175273, 'pos':...                   neu   \n",
       "1418  {'neg': 0.03071826, 'neu': 0.14121525, 'pos': ...                   pos   \n",
       "\n",
       "      emotion_score        date      time  \n",
       "1416       0.636691  2024-02-14  12:25:03  \n",
       "1417       0.501753  2024-02-09  16:18:19  \n",
       "1418       0.828066  2024-02-08  10:34:06  "
      ]
     },
     "execution_count": 66,
     "metadata": {},
     "output_type": "execute_result"
    }
   ],
   "source": [
    "mensfashions = non_locational_data.loc[non_locational_data[\"owner_username\"] == \"mensfashions\"]\n",
    "mensfashions[\"date\"] = pd.to_datetime(mensfashions['created_at'], unit='s').dt.date\n",
    "mensfashions[\"time\"] = pd.to_datetime(mensfashions['created_at'], unit='s').dt.time\n",
    "mensfashions.head(3)"
   ]
  },
  {
   "cell_type": "code",
   "execution_count": 67,
   "metadata": {},
   "outputs": [
    {
     "data": {
      "text/html": [
       "<div>\n",
       "<style scoped>\n",
       "    .dataframe tbody tr th:only-of-type {\n",
       "        vertical-align: middle;\n",
       "    }\n",
       "\n",
       "    .dataframe tbody tr th {\n",
       "        vertical-align: top;\n",
       "    }\n",
       "\n",
       "    .dataframe thead th {\n",
       "        text-align: right;\n",
       "    }\n",
       "</style>\n",
       "<table border=\"1\" class=\"dataframe\">\n",
       "  <thead>\n",
       "    <tr style=\"text-align: right;\">\n",
       "      <th></th>\n",
       "      <th>owner_id</th>\n",
       "      <th>owner_username</th>\n",
       "      <th>shortcode</th>\n",
       "      <th>is_video</th>\n",
       "      <th>caption</th>\n",
       "      <th>comments</th>\n",
       "      <th>likes</th>\n",
       "      <th>created_at</th>\n",
       "      <th>imageUrl</th>\n",
       "      <th>multiple_images</th>\n",
       "      <th>username</th>\n",
       "      <th>followers</th>\n",
       "      <th>following</th>\n",
       "      <th>caption_emotions</th>\n",
       "      <th>most_powerful_emotion</th>\n",
       "      <th>emotion_score</th>\n",
       "      <th>date</th>\n",
       "      <th>time</th>\n",
       "    </tr>\n",
       "  </thead>\n",
       "  <tbody>\n",
       "    <tr>\n",
       "      <th>3075</th>\n",
       "      <td>184378318</td>\n",
       "      <td>mensfashions</td>\n",
       "      <td>Cnziriku8ve</td>\n",
       "      <td>True</td>\n",
       "      <td>Unboxing the NEW Jeep Wagoneer!🎁\\nDo you like ...</td>\n",
       "      <td>125</td>\n",
       "      <td>11651</td>\n",
       "      <td>1.674579e+09</td>\n",
       "      <td>https://scontent-lhr6-2.cdninstagram.com/v/t51...</td>\n",
       "      <td>False</td>\n",
       "      <td>mensfashions</td>\n",
       "      <td>1957620.0</td>\n",
       "      <td>11.0</td>\n",
       "      <td>{'neg': 0.039306264, 'neu': 0.5155821, 'pos': ...</td>\n",
       "      <td>neu</td>\n",
       "      <td>0.515582</td>\n",
       "      <td>2023-01-24</td>\n",
       "      <td>16:57:01</td>\n",
       "    </tr>\n",
       "    <tr>\n",
       "      <th>4932</th>\n",
       "      <td>184378318</td>\n",
       "      <td>mensfashions</td>\n",
       "      <td>CxeC1RDNoX_</td>\n",
       "      <td>True</td>\n",
       "      <td>Via: @luxurylifestylemagazine That’s one way t...</td>\n",
       "      <td>188</td>\n",
       "      <td>6343</td>\n",
       "      <td>1.695333e+09</td>\n",
       "      <td>https://instagram.fkul3-3.fna.fbcdn.net/v/t51....</td>\n",
       "      <td>False</td>\n",
       "      <td>mensfashions</td>\n",
       "      <td>1957620.0</td>\n",
       "      <td>11.0</td>\n",
       "      <td>{'neg': 0.053318985, 'neu': 0.4320326, 'pos': ...</td>\n",
       "      <td>pos</td>\n",
       "      <td>0.514648</td>\n",
       "      <td>2023-09-21</td>\n",
       "      <td>21:47:28</td>\n",
       "    </tr>\n",
       "  </tbody>\n",
       "</table>\n",
       "</div>"
      ],
      "text/plain": [
       "       owner_id owner_username    shortcode  is_video  \\\n",
       "3075  184378318   mensfashions  Cnziriku8ve      True   \n",
       "4932  184378318   mensfashions  CxeC1RDNoX_      True   \n",
       "\n",
       "                                                caption  comments  likes  \\\n",
       "3075  Unboxing the NEW Jeep Wagoneer!🎁\\nDo you like ...       125  11651   \n",
       "4932  Via: @luxurylifestylemagazine That’s one way t...       188   6343   \n",
       "\n",
       "        created_at                                           imageUrl  \\\n",
       "3075  1.674579e+09  https://scontent-lhr6-2.cdninstagram.com/v/t51...   \n",
       "4932  1.695333e+09  https://instagram.fkul3-3.fna.fbcdn.net/v/t51....   \n",
       "\n",
       "      multiple_images      username  followers  following  \\\n",
       "3075            False  mensfashions  1957620.0       11.0   \n",
       "4932            False  mensfashions  1957620.0       11.0   \n",
       "\n",
       "                                       caption_emotions most_powerful_emotion  \\\n",
       "3075  {'neg': 0.039306264, 'neu': 0.5155821, 'pos': ...                   neu   \n",
       "4932  {'neg': 0.053318985, 'neu': 0.4320326, 'pos': ...                   pos   \n",
       "\n",
       "      emotion_score        date      time  \n",
       "3075       0.515582  2023-01-24  16:57:01  \n",
       "4932       0.514648  2023-09-21  21:47:28  "
      ]
     },
     "execution_count": 67,
     "metadata": {},
     "output_type": "execute_result"
    }
   ],
   "source": [
    "mensfashions.loc[mensfashions[\"likes\"] > 5000]"
   ]
  },
  {
   "cell_type": "code",
   "execution_count": 75,
   "metadata": {},
   "outputs": [
    {
     "data": {
      "text/plain": [
       "['Via: @luxurylifestylemagazine That’s one way to get into a Lamborghini Urus 🔥\\n\\nBy @darya_antukhevich @vasia_lavr']"
      ]
     },
     "execution_count": 75,
     "metadata": {},
     "output_type": "execute_result"
    }
   ],
   "source": [
    "list(mensfashions.loc[mensfashions[\"shortcode\"] == \"CxeC1RDNoX_\"][\"caption\"])"
   ]
  },
  {
   "cell_type": "code",
   "execution_count": 33,
   "metadata": {},
   "outputs": [
    {
     "data": {
      "image/png": "[encoded data removed]",
      "text/plain": [
       "<Figure size 2000x600 with 1 Axes>"
      ]
     },
     "metadata": {},
     "output_type": "display_data"
    }
   ],
   "source": [
    "plt.figure(figsize=(20, 6))\n",
    "\n",
    "ax = sns.barplot(data=mensfashions.sort_values(by=\"created_at\", ascending=True),\n",
    "            x=\"date\",\n",
    "            y=\"likes\", \n",
    "            hue=\"is_video\")\n",
    "\n",
    "\n",
    "plt.xticks(rotation=45)\n",
    "plt.show()"
   ]
  },
  {
   "cell_type": "markdown",
   "metadata": {},
   "source": [
    "as you can see the most like content of this account are videos. \n",
    "1. what are these posts about?\n",
    "2. what time of they these posts are committed? is there any difference between time of upload of these posts and other posts?\n",
    "3. what are emotions of these posts and what are comments of these posts?\n"
   ]
  },
  {
   "cell_type": "markdown",
   "metadata": {},
   "source": [
    "------------"
   ]
  },
  {
   "cell_type": "markdown",
   "metadata": {},
   "source": [
    "# Based on Hashtags"
   ]
  },
  {
   "cell_type": "markdown",
   "metadata": {},
   "source": [
    "## most used hashtags Based on time and location"
   ]
  },
  {
   "cell_type": "code",
   "execution_count": 79,
   "metadata": {},
   "outputs": [
    {
     "name": "stdout",
     "output_type": "stream",
     "text": [
      "Had an amazing time in #salem for Halloween this year with my Mom, Brother and Captive 🍁🎃🍁\n",
      "\n",
      "The making of this broom is featured in a brand new episode on YouTube and the costume making episode is up on Patreon 🥳\n",
      "\n",
      "Thank you so much to Kirstie from @Blackcraftcult for the eerie midnight tour of your incredible shop on Essex St ✨☠️✨\n",
      "\n",
      "#halloween #salemjack\n",
      "Stopped by my favorite antique book store @lyricalballadbookstore this weekend in Saratoga Springs! \n",
      "\n",
      "I’ve been working on a BIG restoration project these last few months and when it’s done there will be a public episode on YouTube featuring the reveal 🥳 \n",
      "\n",
      "Can’t wait for you to see it 👻\n",
      "Check out my 2023 reel! 🎥\n",
      "\n",
      "I invite you also to visit my updated portfolio with all my animations, personal illustrations and commercials from this year. I hope you like it! 🙌\n",
      "\n",
      "#stopmotions #stopmotionslovers #stopmotionvideo #stopmotionanimation #roughanimator #aftereffects\n",
      "🔵 🔵 🔵 Hold the dots and scroll right! 👉\n",
      "\n",
      "👁️ Based on a post by @karenxcheng I discovered this carousel feature in Instagram. Did you already know it?\n",
      "\n",
      "#stopmotion #stopmotionanimation\n",
      "Happy Valentine’s Day! ❤️ Send this video to your special person 🥰\n",
      "\n",
      "I made this #stopmotion using #Dragonframe and for the frame by frame animation I used #Procreate and for the final edit I used #ProcreateDreams.\n",
      "Merry Christmas! ☃️ Joyeux Noël! 🎅 ¡Feliz Navidad! ⛄Buon Natale! 🎄 Fröhliche Weihnachten!\n",
      "\n",
      "Thank you for following my work this year, I hope you spend with your loved ones and friends this Christmas.\n",
      "Miren el proceso del diseño de la portada de “El Gran Padrino” 🌹\n",
      "\n",
      "Este libro se trata sobre la historia detrás de la investigación periodística sobre corrupción y narcotráfico que llevó a una acusación de juicio político contra el expresidente de la República del Ecuador.\n",
      "\n",
      "📕 Fue escrito por Andersson Boscán y Mónica Velásquez, periodistas de La Posta.\n",
      "\n",
      "—————-\n",
      "\n",
      "Check out the cover design process for “El Gran Padrino” 🌹\n",
      "\n",
      "This book is about the story behind the journalistic investigation into corruption and drug trafficking that led to an impeachment charge against the ex-president of the Republic of Ecuador.\n",
      "\n",
      "📕 It was written by Andersson Boscán and Mónica Velásquez, journalists of La Posta.\n",
      "¡Animando en #Guayaquil! 🩵\n",
      "\n",
      "Este fue el proceso: \n",
      "\n",
      "1. Grabé la calle 🎥\n",
      "2. Me grabé como referencia\n",
      "3.  Usé mi referencia para hacer un sketch rápido\n",
      "4. El sketch me sirvió como guía para los cuadros finales ✍️\n",
      "La animación fue creada en #RoughAnimator y la composición final fue hecha en #AfterEffects 😎\n",
      "\n",
      "🍎 #ThinkEcuador\n",
      "\n",
      "———-\n",
      "\n",
      "Animating in Guayaquil! 🩵\n",
      "\n",
      "This was the process:\n",
      "\n",
      "1. I recorded the street 🎥\n",
      "2. I recorded myself as a reference\n",
      "3. I used my reference to make a quick sketch.\n",
      "4. I used the sketch as a guide for the clean frames ✍️\n",
      "\n",
      "The animation was created in #RoughAnimator and the final composition was made in #AfterEffects 😎.\n",
      "¡Animando a un gato! 🐈\n",
      "\n",
      "La secuencia la hice en #RoughAnimator en mi iPad y luego la imprimí.\n",
      "\n",
      "Para la animación en #stopmotion use #StopMotionStudio y la edición final la hice en #CapCut en mi iPhone.\n",
      "\n",
      "🍎 #ThinkEcuador\n",
      "\n",
      "———-\n",
      "\n",
      "Animating a cat! 🐈\n",
      "\n",
      "I made this sequence in #RoughAnimator on my iPad and then printed it.\n",
      "\n",
      "For the #stopmotionanimation I used #StopMotionStudio and the final edit I did in #CapCut on my iPhone.\n",
      "¡Feliz #Halloween! 🎃 Miren el proceso de cómo hice esta animación usando #RoughAnimator en mi #iPad.\n",
      "\n",
      "———-\n",
      "\n",
      "Happy Halloween! 🎃 Check out the process of how I made this animation using #RoughAnimator on my #iPad.\n",
      "\n",
      "🍎 #thinkecuador\n"
     ]
    }
   ],
   "source": [
    "for text in locational_data[\"caption\"][:10]:\n",
    "    print(text)"
   ]
  },
  {
   "cell_type": "markdown",
   "metadata": {},
   "source": [
    "## most used Hashtags, with out considering location"
   ]
  },
  {
   "cell_type": "code",
   "execution_count": 80,
   "metadata": {},
   "outputs": [],
   "source": []
  },
  {
   "cell_type": "markdown",
   "metadata": {},
   "source": [
    "----------"
   ]
  },
  {
   "cell_type": "markdown",
   "metadata": {},
   "source": [
    "# Based on number of likes\n",
    "1. how are changes of number of likes and comments and deviation of them, Based on:\n",
    "\n",
    "1.1 location\n",
    "\n",
    "1.2 time\n",
    "\n",
    "1.2 emotions"
   ]
  },
  {
   "cell_type": "markdown",
   "metadata": {},
   "source": [
    "----"
   ]
  },
  {
   "cell_type": "markdown",
   "metadata": {},
   "source": [
    "# Based on location\n",
    "\n",
    "what are most used hashtags and developed emotions Based on location over time\n",
    "where do longest captions belong?"
   ]
  },
  {
   "cell_type": "code",
   "execution_count": null,
   "metadata": {},
   "outputs": [],
   "source": []
  },
  {
   "cell_type": "code",
   "execution_count": null,
   "metadata": {},
   "outputs": [],
   "source": []
  },
  {
   "cell_type": "code",
   "execution_count": null,
   "metadata": {},
   "outputs": [],
   "source": []
  },
  {
   "cell_type": "code",
   "execution_count": null,
   "metadata": {},
   "outputs": [],
   "source": []
  },
  {
   "cell_type": "code",
   "execution_count": null,
   "metadata": {},
   "outputs": [],
   "source": []
  },
  {
   "cell_type": "code",
   "execution_count": null,
   "metadata": {},
   "outputs": [],
   "source": []
  }
 ],
 "metadata": {
  "kernelspec": {
   "display_name": "Python 3",
   "language": "python",
   "name": "python3"
  },
  "language_info": {
   "codemirror_mode": {
    "name": "ipython",
    "version": 3
   },
   "file_extension": ".py",
   "mimetype": "text/x-python",
   "name": "python",
   "nbconvert_exporter": "python",
   "pygments_lexer": "ipython3",
   "version": "3.11.0"
  }
 },
 "nbformat": 4,
 "nbformat_minor": 2
}
