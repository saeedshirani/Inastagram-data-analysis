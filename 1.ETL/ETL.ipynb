{
 "cells": [
  {
   "cell_type": "code",
   "execution_count": 42,
   "metadata": {},
   "outputs": [],
   "source": [
    "import pandas as pd\n",
    "import ast\n",
    "import os"
   ]
  },
  {
   "cell_type": "markdown",
   "metadata": {},
   "source": [
    "# Reading dataset"
   ]
  },
  {
   "cell_type": "code",
   "execution_count": 43,
   "metadata": {},
   "outputs": [
    {
     "data": {
      "text/html": [
       "<div>\n",
       "<style scoped>\n",
       "    .dataframe tbody tr th:only-of-type {\n",
       "        vertical-align: middle;\n",
       "    }\n",
       "\n",
       "    .dataframe tbody tr th {\n",
       "        vertical-align: top;\n",
       "    }\n",
       "\n",
       "    .dataframe thead th {\n",
       "        text-align: right;\n",
       "    }\n",
       "</style>\n",
       "<table border=\"1\" class=\"dataframe\">\n",
       "  <thead>\n",
       "    <tr style=\"text-align: right;\">\n",
       "      <th></th>\n",
       "      <th>owner_id</th>\n",
       "      <th>owner_username</th>\n",
       "      <th>shortcode</th>\n",
       "      <th>is_video</th>\n",
       "      <th>caption</th>\n",
       "      <th>comments</th>\n",
       "      <th>likes</th>\n",
       "      <th>created_at</th>\n",
       "      <th>location</th>\n",
       "      <th>imageUrl</th>\n",
       "      <th>multiple_images</th>\n",
       "      <th>username</th>\n",
       "      <th>followers</th>\n",
       "      <th>following</th>\n",
       "    </tr>\n",
       "  </thead>\n",
       "  <tbody>\n",
       "    <tr>\n",
       "      <th>0</th>\n",
       "      <td>36063641</td>\n",
       "      <td>christendominique</td>\n",
       "      <td>C3_GS1ASeWI</td>\n",
       "      <td>False</td>\n",
       "      <td>I’m a brunch &amp; Iced Coffee girlie☕️🍳 \\n\\nTop @...</td>\n",
       "      <td>268</td>\n",
       "      <td>16382</td>\n",
       "      <td>1.709327e+09</td>\n",
       "      <td>NaN</td>\n",
       "      <td>https://instagram.flba2-1.fna.fbcdn.net/v/t39....</td>\n",
       "      <td>True</td>\n",
       "      <td>christendominique</td>\n",
       "      <td>2144626.0</td>\n",
       "      <td>1021.0</td>\n",
       "    </tr>\n",
       "    <tr>\n",
       "      <th>1</th>\n",
       "      <td>36063641</td>\n",
       "      <td>christendominique</td>\n",
       "      <td>C38ivgNS3IX</td>\n",
       "      <td>True</td>\n",
       "      <td>😮‍💨Brow tips I really wish I would have know w...</td>\n",
       "      <td>138</td>\n",
       "      <td>9267</td>\n",
       "      <td>1.709241e+09</td>\n",
       "      <td>NaN</td>\n",
       "      <td>https://instagram.flba2-1.fna.fbcdn.net/v/t51....</td>\n",
       "      <td>False</td>\n",
       "      <td>christendominique</td>\n",
       "      <td>2144626.0</td>\n",
       "      <td>1021.0</td>\n",
       "    </tr>\n",
       "    <tr>\n",
       "      <th>2</th>\n",
       "      <td>36063641</td>\n",
       "      <td>christendominique</td>\n",
       "      <td>C35-Dd9SO1b</td>\n",
       "      <td>True</td>\n",
       "      <td>OMG I can’t believe it’s already been 1 yr sin...</td>\n",
       "      <td>1089</td>\n",
       "      <td>10100</td>\n",
       "      <td>1.709155e+09</td>\n",
       "      <td>NaN</td>\n",
       "      <td>https://instagram.flba2-1.fna.fbcdn.net/v/t51....</td>\n",
       "      <td>False</td>\n",
       "      <td>christendominique</td>\n",
       "      <td>2144626.0</td>\n",
       "      <td>1021.0</td>\n",
       "    </tr>\n",
       "    <tr>\n",
       "      <th>3</th>\n",
       "      <td>36063641</td>\n",
       "      <td>christendominique</td>\n",
       "      <td>C33TadDMisq</td>\n",
       "      <td>True</td>\n",
       "      <td>90’s Glam was Pam! \\n\\nMakeup \\n@smashboxcosme...</td>\n",
       "      <td>271</td>\n",
       "      <td>6943</td>\n",
       "      <td>1.709065e+09</td>\n",
       "      <td>NaN</td>\n",
       "      <td>https://instagram.flba2-1.fna.fbcdn.net/v/t51....</td>\n",
       "      <td>False</td>\n",
       "      <td>christendominique</td>\n",
       "      <td>2144626.0</td>\n",
       "      <td>1021.0</td>\n",
       "    </tr>\n",
       "    <tr>\n",
       "      <th>4</th>\n",
       "      <td>36063641</td>\n",
       "      <td>christendominique</td>\n",
       "      <td>C3s-Cm1yCba</td>\n",
       "      <td>True</td>\n",
       "      <td>Chiseled &amp; Sculptured 🏛️\\n\\n Contour @westmana...</td>\n",
       "      <td>145</td>\n",
       "      <td>17158</td>\n",
       "      <td>1.708718e+09</td>\n",
       "      <td>NaN</td>\n",
       "      <td>https://instagram.flba2-1.fna.fbcdn.net/v/t51....</td>\n",
       "      <td>False</td>\n",
       "      <td>christendominique</td>\n",
       "      <td>2144626.0</td>\n",
       "      <td>1021.0</td>\n",
       "    </tr>\n",
       "  </tbody>\n",
       "</table>\n",
       "</div>"
      ],
      "text/plain": [
       "   owner_id     owner_username    shortcode is_video  \\\n",
       "0  36063641  christendominique  C3_GS1ASeWI    False   \n",
       "1  36063641  christendominique  C38ivgNS3IX     True   \n",
       "2  36063641  christendominique  C35-Dd9SO1b     True   \n",
       "3  36063641  christendominique  C33TadDMisq     True   \n",
       "4  36063641  christendominique  C3s-Cm1yCba     True   \n",
       "\n",
       "                                             caption comments  likes  \\\n",
       "0  I’m a brunch & Iced Coffee girlie☕️🍳 \\n\\nTop @...      268  16382   \n",
       "1  😮‍💨Brow tips I really wish I would have know w...      138   9267   \n",
       "2  OMG I can’t believe it’s already been 1 yr sin...     1089  10100   \n",
       "3  90’s Glam was Pam! \\n\\nMakeup \\n@smashboxcosme...      271   6943   \n",
       "4  Chiseled & Sculptured 🏛️\\n\\n Contour @westmana...      145  17158   \n",
       "\n",
       "     created_at location                                           imageUrl  \\\n",
       "0  1.709327e+09      NaN  https://instagram.flba2-1.fna.fbcdn.net/v/t39....   \n",
       "1  1.709241e+09      NaN  https://instagram.flba2-1.fna.fbcdn.net/v/t51....   \n",
       "2  1.709155e+09      NaN  https://instagram.flba2-1.fna.fbcdn.net/v/t51....   \n",
       "3  1.709065e+09      NaN  https://instagram.flba2-1.fna.fbcdn.net/v/t51....   \n",
       "4  1.708718e+09      NaN  https://instagram.flba2-1.fna.fbcdn.net/v/t51....   \n",
       "\n",
       "  multiple_images           username  followers  following  \n",
       "0            True  christendominique  2144626.0     1021.0  \n",
       "1           False  christendominique  2144626.0     1021.0  \n",
       "2           False  christendominique  2144626.0     1021.0  \n",
       "3           False  christendominique  2144626.0     1021.0  \n",
       "4           False  christendominique  2144626.0     1021.0  "
      ]
     },
     "execution_count": 43,
     "metadata": {},
     "output_type": "execute_result"
    }
   ],
   "source": [
    "path = \"../instagram_data.csv\"\n",
    "data =pd.read_csv(path)\n",
    "data.head()"
   ]
  },
  {
   "cell_type": "code",
   "execution_count": 44,
   "metadata": {},
   "outputs": [
    {
     "data": {
      "text/plain": [
       "owner_id              0\n",
       "owner_username        2\n",
       "shortcode             2\n",
       "is_video              2\n",
       "caption             161\n",
       "comments              2\n",
       "likes                 2\n",
       "created_at            3\n",
       "location           7169\n",
       "imageUrl              3\n",
       "multiple_images       3\n",
       "username           2115\n",
       "followers          2115\n",
       "following          2115\n",
       "dtype: int64"
      ]
     },
     "execution_count": 44,
     "metadata": {},
     "output_type": "execute_result"
    }
   ],
   "source": [
    "data.isna().sum()"
   ]
  },
  {
   "cell_type": "markdown",
   "metadata": {},
   "source": [
    "drop nan values in caption column"
   ]
  },
  {
   "cell_type": "code",
   "execution_count": 45,
   "metadata": {},
   "outputs": [],
   "source": [
    "data.dropna(subset=[\"caption\"], inplace=True)"
   ]
  },
  {
   "cell_type": "markdown",
   "metadata": {},
   "source": [
    "see if there is any diffrance in user names on two column for each row \n",
    "there are some cases but just when username is NAN\n"
   ]
  },
  {
   "cell_type": "code",
   "execution_count": 46,
   "metadata": {},
   "outputs": [
    {
     "data": {
      "text/html": [
       "<div>\n",
       "<style scoped>\n",
       "    .dataframe tbody tr th:only-of-type {\n",
       "        vertical-align: middle;\n",
       "    }\n",
       "\n",
       "    .dataframe tbody tr th {\n",
       "        vertical-align: top;\n",
       "    }\n",
       "\n",
       "    .dataframe thead th {\n",
       "        text-align: right;\n",
       "    }\n",
       "</style>\n",
       "<table border=\"1\" class=\"dataframe\">\n",
       "  <thead>\n",
       "    <tr style=\"text-align: right;\">\n",
       "      <th></th>\n",
       "      <th>owner_id</th>\n",
       "      <th>owner_username</th>\n",
       "      <th>shortcode</th>\n",
       "      <th>is_video</th>\n",
       "      <th>caption</th>\n",
       "      <th>comments</th>\n",
       "      <th>likes</th>\n",
       "      <th>created_at</th>\n",
       "      <th>location</th>\n",
       "      <th>imageUrl</th>\n",
       "      <th>multiple_images</th>\n",
       "      <th>username</th>\n",
       "      <th>followers</th>\n",
       "      <th>following</th>\n",
       "    </tr>\n",
       "  </thead>\n",
       "  <tbody>\n",
       "  </tbody>\n",
       "</table>\n",
       "</div>"
      ],
      "text/plain": [
       "Empty DataFrame\n",
       "Columns: [owner_id, owner_username, shortcode, is_video, caption, comments, likes, created_at, location, imageUrl, multiple_images, username, followers, following]\n",
       "Index: []"
      ]
     },
     "execution_count": 46,
     "metadata": {},
     "output_type": "execute_result"
    }
   ],
   "source": [
    "data.loc[(data.owner_username != data.username) & (data.username.isna() != True)]"
   ]
  },
  {
   "cell_type": "code",
   "execution_count": 47,
   "metadata": {},
   "outputs": [
    {
     "data": {
      "text/plain": [
       "owner_id              0\n",
       "owner_username        0\n",
       "shortcode             0\n",
       "is_video              0\n",
       "caption               0\n",
       "comments              0\n",
       "likes                 0\n",
       "created_at            1\n",
       "location           7022\n",
       "imageUrl              1\n",
       "multiple_images       1\n",
       "username           2090\n",
       "followers          2090\n",
       "following          2090\n",
       "dtype: int64"
      ]
     },
     "execution_count": 47,
     "metadata": {},
     "output_type": "execute_result"
    }
   ],
   "source": [
    "data.isna().sum()"
   ]
  },
  {
   "cell_type": "markdown",
   "metadata": {},
   "source": [
    "# Locational Data\n",
    "data rows with filled location values"
   ]
  },
  {
   "cell_type": "code",
   "execution_count": 48,
   "metadata": {},
   "outputs": [
    {
     "data": {
      "text/html": [
       "<div>\n",
       "<style scoped>\n",
       "    .dataframe tbody tr th:only-of-type {\n",
       "        vertical-align: middle;\n",
       "    }\n",
       "\n",
       "    .dataframe tbody tr th {\n",
       "        vertical-align: top;\n",
       "    }\n",
       "\n",
       "    .dataframe thead th {\n",
       "        text-align: right;\n",
       "    }\n",
       "</style>\n",
       "<table border=\"1\" class=\"dataframe\">\n",
       "  <thead>\n",
       "    <tr style=\"text-align: right;\">\n",
       "      <th></th>\n",
       "      <th>owner_id</th>\n",
       "      <th>owner_username</th>\n",
       "      <th>shortcode</th>\n",
       "      <th>is_video</th>\n",
       "      <th>caption</th>\n",
       "      <th>comments</th>\n",
       "      <th>likes</th>\n",
       "      <th>created_at</th>\n",
       "      <th>location</th>\n",
       "      <th>imageUrl</th>\n",
       "      <th>multiple_images</th>\n",
       "      <th>username</th>\n",
       "      <th>followers</th>\n",
       "      <th>following</th>\n",
       "    </tr>\n",
       "  </thead>\n",
       "  <tbody>\n",
       "    <tr>\n",
       "      <th>28</th>\n",
       "      <td>40506412</td>\n",
       "      <td>christinehmcconnell</td>\n",
       "      <td>CzJtDjegmdI</td>\n",
       "      <td>False</td>\n",
       "      <td>Had an amazing time in #salem for Halloween th...</td>\n",
       "      <td>466</td>\n",
       "      <td>79000</td>\n",
       "      <td>1.698945e+09</td>\n",
       "      <td>{'id': '34537076', 'has_public_page': True, 'n...</td>\n",
       "      <td>https://instagram.ffor43-1.fna.fbcdn.net/v/t39...</td>\n",
       "      <td>True</td>\n",
       "      <td>christinehmcconnell</td>\n",
       "      <td>597189.0</td>\n",
       "      <td>1576.0</td>\n",
       "    </tr>\n",
       "  </tbody>\n",
       "</table>\n",
       "</div>"
      ],
      "text/plain": [
       "    owner_id       owner_username    shortcode is_video  \\\n",
       "28  40506412  christinehmcconnell  CzJtDjegmdI    False   \n",
       "\n",
       "                                              caption comments  likes  \\\n",
       "28  Had an amazing time in #salem for Halloween th...      466  79000   \n",
       "\n",
       "      created_at                                           location  \\\n",
       "28  1.698945e+09  {'id': '34537076', 'has_public_page': True, 'n...   \n",
       "\n",
       "                                             imageUrl multiple_images  \\\n",
       "28  https://instagram.ffor43-1.fna.fbcdn.net/v/t39...            True   \n",
       "\n",
       "               username  followers  following  \n",
       "28  christinehmcconnell   597189.0     1576.0  "
      ]
     },
     "execution_count": 48,
     "metadata": {},
     "output_type": "execute_result"
    }
   ],
   "source": [
    "locational_data = data.loc[data.location.isna() != True]\n",
    "locational_data.head(1)"
   ]
  },
  {
   "cell_type": "markdown",
   "metadata": {},
   "source": [
    "*`coverting all values to dictionary`*"
   ]
  },
  {
   "cell_type": "code",
   "execution_count": 49,
   "metadata": {},
   "outputs": [
    {
     "name": "stderr",
     "output_type": "stream",
     "text": [
      "C:\\Users\\saeed\\AppData\\Local\\Temp\\ipykernel_1940\\1118611153.py:4: SettingWithCopyWarning: \n",
      "A value is trying to be set on a copy of a slice from a DataFrame.\n",
      "Try using .loc[row_indexer,col_indexer] = value instead\n",
      "\n",
      "See the caveats in the documentation: https://pandas.pydata.org/pandas-docs/stable/user_guide/indexing.html#returning-a-view-versus-a-copy\n",
      "  locational_data[\"location\"] = locational_data.apply(dict_maker, axis=1)\n"
     ]
    }
   ],
   "source": [
    "def dict_maker(row):\n",
    "    return ast.literal_eval(row[\"location\"])\n",
    "\n",
    "locational_data[\"location\"] = locational_data.apply(dict_maker, axis=1)"
   ]
  },
  {
   "cell_type": "markdown",
   "metadata": {},
   "source": [
    "*`getting all city names in dictionary, and then replace the final list of city names with current column of location`*"
   ]
  },
  {
   "cell_type": "code",
   "execution_count": 50,
   "metadata": {},
   "outputs": [
    {
     "name": "stderr",
     "output_type": "stream",
     "text": [
      "C:\\Users\\saeed\\AppData\\Local\\Temp\\ipykernel_1940\\762568345.py:6: SettingWithCopyWarning: \n",
      "A value is trying to be set on a copy of a slice from a DataFrame.\n",
      "Try using .loc[row_indexer,col_indexer] = value instead\n",
      "\n",
      "See the caveats in the documentation: https://pandas.pydata.org/pandas-docs/stable/user_guide/indexing.html#returning-a-view-versus-a-copy\n",
      "  locational_data.location = location\n"
     ]
    }
   ],
   "source": [
    "location = []\n",
    "for key in locational_data.location:\n",
    "    location.append(key[\"slug\"])\n",
    "\n",
    "# replace old colum with new list\n",
    "locational_data.location = location"
   ]
  },
  {
   "cell_type": "code",
   "execution_count": 51,
   "metadata": {},
   "outputs": [
    {
     "data": {
      "text/html": [
       "<div>\n",
       "<style scoped>\n",
       "    .dataframe tbody tr th:only-of-type {\n",
       "        vertical-align: middle;\n",
       "    }\n",
       "\n",
       "    .dataframe tbody tr th {\n",
       "        vertical-align: top;\n",
       "    }\n",
       "\n",
       "    .dataframe thead th {\n",
       "        text-align: right;\n",
       "    }\n",
       "</style>\n",
       "<table border=\"1\" class=\"dataframe\">\n",
       "  <thead>\n",
       "    <tr style=\"text-align: right;\">\n",
       "      <th></th>\n",
       "      <th>owner_id</th>\n",
       "      <th>owner_username</th>\n",
       "      <th>shortcode</th>\n",
       "      <th>is_video</th>\n",
       "      <th>caption</th>\n",
       "      <th>comments</th>\n",
       "      <th>likes</th>\n",
       "      <th>created_at</th>\n",
       "      <th>location</th>\n",
       "      <th>imageUrl</th>\n",
       "      <th>multiple_images</th>\n",
       "      <th>username</th>\n",
       "      <th>followers</th>\n",
       "      <th>following</th>\n",
       "    </tr>\n",
       "  </thead>\n",
       "  <tbody>\n",
       "    <tr>\n",
       "      <th>28</th>\n",
       "      <td>40506412</td>\n",
       "      <td>christinehmcconnell</td>\n",
       "      <td>CzJtDjegmdI</td>\n",
       "      <td>False</td>\n",
       "      <td>Had an amazing time in #salem for Halloween th...</td>\n",
       "      <td>466</td>\n",
       "      <td>79000</td>\n",
       "      <td>1.698945e+09</td>\n",
       "      <td>salem-massachusetts</td>\n",
       "      <td>https://instagram.ffor43-1.fna.fbcdn.net/v/t39...</td>\n",
       "      <td>True</td>\n",
       "      <td>christinehmcconnell</td>\n",
       "      <td>597189.0</td>\n",
       "      <td>1576.0</td>\n",
       "    </tr>\n",
       "  </tbody>\n",
       "</table>\n",
       "</div>"
      ],
      "text/plain": [
       "    owner_id       owner_username    shortcode is_video  \\\n",
       "28  40506412  christinehmcconnell  CzJtDjegmdI    False   \n",
       "\n",
       "                                              caption comments  likes  \\\n",
       "28  Had an amazing time in #salem for Halloween th...      466  79000   \n",
       "\n",
       "      created_at             location  \\\n",
       "28  1.698945e+09  salem-massachusetts   \n",
       "\n",
       "                                             imageUrl multiple_images  \\\n",
       "28  https://instagram.ffor43-1.fna.fbcdn.net/v/t39...            True   \n",
       "\n",
       "               username  followers  following  \n",
       "28  christinehmcconnell   597189.0     1576.0  "
      ]
     },
     "execution_count": 51,
     "metadata": {},
     "output_type": "execute_result"
    }
   ],
   "source": [
    "locational_data = locational_data[locational_data['username'].notna()]\n",
    "locational_data.head(1)"
   ]
  },
  {
   "cell_type": "markdown",
   "metadata": {},
   "source": [
    "convert this to dataset \"Locational_dataset\" "
   ]
  },
  {
   "cell_type": "markdown",
   "metadata": {},
   "source": [
    "----"
   ]
  },
  {
   "cell_type": "markdown",
   "metadata": {},
   "source": [
    "# Non-Locational Data"
   ]
  },
  {
   "cell_type": "code",
   "execution_count": 52,
   "metadata": {},
   "outputs": [
    {
     "name": "stderr",
     "output_type": "stream",
     "text": [
      "C:\\Users\\saeed\\AppData\\Local\\Temp\\ipykernel_1940\\2266298829.py:2: SettingWithCopyWarning: \n",
      "A value is trying to be set on a copy of a slice from a DataFrame\n",
      "\n",
      "See the caveats in the documentation: https://pandas.pydata.org/pandas-docs/stable/user_guide/indexing.html#returning-a-view-versus-a-copy\n",
      "  nonlocational_data.drop(columns=\"location\", inplace=True)\n"
     ]
    }
   ],
   "source": [
    "nonlocational_data = data.loc[data.username.isna() == False]\n",
    "nonlocational_data.drop(columns=\"location\", inplace=True)"
   ]
  },
  {
   "cell_type": "code",
   "execution_count": 53,
   "metadata": {},
   "outputs": [
    {
     "data": {
      "text/html": [
       "<div>\n",
       "<style scoped>\n",
       "    .dataframe tbody tr th:only-of-type {\n",
       "        vertical-align: middle;\n",
       "    }\n",
       "\n",
       "    .dataframe tbody tr th {\n",
       "        vertical-align: top;\n",
       "    }\n",
       "\n",
       "    .dataframe thead th {\n",
       "        text-align: right;\n",
       "    }\n",
       "</style>\n",
       "<table border=\"1\" class=\"dataframe\">\n",
       "  <thead>\n",
       "    <tr style=\"text-align: right;\">\n",
       "      <th></th>\n",
       "      <th>owner_id</th>\n",
       "      <th>owner_username</th>\n",
       "      <th>shortcode</th>\n",
       "      <th>is_video</th>\n",
       "      <th>caption</th>\n",
       "      <th>comments</th>\n",
       "      <th>likes</th>\n",
       "      <th>created_at</th>\n",
       "      <th>imageUrl</th>\n",
       "      <th>multiple_images</th>\n",
       "      <th>username</th>\n",
       "      <th>followers</th>\n",
       "      <th>following</th>\n",
       "    </tr>\n",
       "  </thead>\n",
       "  <tbody>\n",
       "    <tr>\n",
       "      <th>0</th>\n",
       "      <td>36063641</td>\n",
       "      <td>christendominique</td>\n",
       "      <td>C3_GS1ASeWI</td>\n",
       "      <td>False</td>\n",
       "      <td>I’m a brunch &amp; Iced Coffee girlie☕️🍳 \\n\\nTop @...</td>\n",
       "      <td>268</td>\n",
       "      <td>16382</td>\n",
       "      <td>1.709327e+09</td>\n",
       "      <td>https://instagram.flba2-1.fna.fbcdn.net/v/t39....</td>\n",
       "      <td>True</td>\n",
       "      <td>christendominique</td>\n",
       "      <td>2144626.0</td>\n",
       "      <td>1021.0</td>\n",
       "    </tr>\n",
       "  </tbody>\n",
       "</table>\n",
       "</div>"
      ],
      "text/plain": [
       "   owner_id     owner_username    shortcode is_video  \\\n",
       "0  36063641  christendominique  C3_GS1ASeWI    False   \n",
       "\n",
       "                                             caption comments  likes  \\\n",
       "0  I’m a brunch & Iced Coffee girlie☕️🍳 \\n\\nTop @...      268  16382   \n",
       "\n",
       "     created_at                                           imageUrl  \\\n",
       "0  1.709327e+09  https://instagram.flba2-1.fna.fbcdn.net/v/t39....   \n",
       "\n",
       "  multiple_images           username  followers  following  \n",
       "0            True  christendominique  2144626.0     1021.0  "
      ]
     },
     "execution_count": 53,
     "metadata": {},
     "output_type": "execute_result"
    }
   ],
   "source": [
    "nonlocational_data.head(1)"
   ]
  },
  {
   "cell_type": "code",
   "execution_count": 54,
   "metadata": {},
   "outputs": [
    {
     "data": {
      "text/plain": [
       "owner_id           0\n",
       "owner_username     0\n",
       "shortcode          0\n",
       "is_video           0\n",
       "caption            0\n",
       "comments           0\n",
       "likes              0\n",
       "created_at         0\n",
       "imageUrl           0\n",
       "multiple_images    0\n",
       "username           0\n",
       "followers          0\n",
       "following          0\n",
       "dtype: int64"
      ]
     },
     "execution_count": 54,
     "metadata": {},
     "output_type": "execute_result"
    }
   ],
   "source": [
    "nonlocational_data.isna().sum()"
   ]
  },
  {
   "cell_type": "markdown",
   "metadata": {},
   "source": [
    "---"
   ]
  },
  {
   "cell_type": "markdown",
   "metadata": {},
   "source": [
    "# Exporting Data \n",
    "Exporting Data on csv file in `prepare data` folder"
   ]
  },
  {
   "cell_type": "code",
   "execution_count": 56,
   "metadata": {},
   "outputs": [],
   "source": [
    "folder_path = '../2.Prepared Data'\n",
    "if not os.path.exists(folder_path):\n",
    "    os.makedirs(folder_path)\n",
    "\n",
    "# Save each DataFrame to a CSV file in the new folder\n",
    "nonlocational_data.to_csv(os.path.join(folder_path, 'non_locational_data.csv'), index=False)\n",
    "locational_data.to_csv(os.path.join(folder_path, 'locational_data.csv'), index=False)"
   ]
  }
 ],
 "metadata": {
  "kernelspec": {
   "display_name": "Python 3",
   "language": "python",
   "name": "python3"
  },
  "language_info": {
   "codemirror_mode": {
    "name": "ipython",
    "version": 3
   },
   "file_extension": ".py",
   "mimetype": "text/x-python",
   "name": "python",
   "nbconvert_exporter": "python",
   "pygments_lexer": "ipython3",
   "version": "3.11.0"
  }
 },
 "nbformat": 4,
 "nbformat_minor": 2
}
