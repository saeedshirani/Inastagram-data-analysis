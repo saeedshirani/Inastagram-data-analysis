{
 "cells": [
  {
   "cell_type": "code",
   "execution_count": 2,
   "metadata": {},
   "outputs": [],
   "source": [
    "from transformers import AutoTokenizer, AutoModelForSequenceClassification\n",
    "from scipy.special import softmax\n",
    "import pandas as pd\n",
    "import warnings\n",
    "import ast\n",
    "import os\n",
    "\n",
    "\n",
    "warnings.filterwarnings('ignore') # for more clear output"
   ]
  },
  {
   "cell_type": "markdown",
   "metadata": {},
   "source": [
    "# Reading dataset"
   ]
  },
  {
   "cell_type": "code",
   "execution_count": 3,
   "metadata": {},
   "outputs": [
    {
     "data": {
      "text/html": [
       "<div>\n",
       "<style scoped>\n",
       "    .dataframe tbody tr th:only-of-type {\n",
       "        vertical-align: middle;\n",
       "    }\n",
       "\n",
       "    .dataframe tbody tr th {\n",
       "        vertical-align: top;\n",
       "    }\n",
       "\n",
       "    .dataframe thead th {\n",
       "        text-align: right;\n",
       "    }\n",
       "</style>\n",
       "<table border=\"1\" class=\"dataframe\">\n",
       "  <thead>\n",
       "    <tr style=\"text-align: right;\">\n",
       "      <th></th>\n",
       "      <th>owner_id</th>\n",
       "      <th>owner_username</th>\n",
       "      <th>shortcode</th>\n",
       "      <th>is_video</th>\n",
       "      <th>caption</th>\n",
       "      <th>comments</th>\n",
       "      <th>likes</th>\n",
       "      <th>created_at</th>\n",
       "      <th>location</th>\n",
       "      <th>imageUrl</th>\n",
       "      <th>multiple_images</th>\n",
       "      <th>username</th>\n",
       "      <th>followers</th>\n",
       "      <th>following</th>\n",
       "    </tr>\n",
       "  </thead>\n",
       "  <tbody>\n",
       "    <tr>\n",
       "      <th>0</th>\n",
       "      <td>36063641</td>\n",
       "      <td>christendominique</td>\n",
       "      <td>C3_GS1ASeWI</td>\n",
       "      <td>False</td>\n",
       "      <td>I’m a brunch &amp; Iced Coffee girlie☕️🍳 \\n\\nTop @...</td>\n",
       "      <td>268</td>\n",
       "      <td>16382</td>\n",
       "      <td>1.709327e+09</td>\n",
       "      <td>NaN</td>\n",
       "      <td>https://instagram.flba2-1.fna.fbcdn.net/v/t39....</td>\n",
       "      <td>True</td>\n",
       "      <td>christendominique</td>\n",
       "      <td>2144626.0</td>\n",
       "      <td>1021.0</td>\n",
       "    </tr>\n",
       "  </tbody>\n",
       "</table>\n",
       "</div>"
      ],
      "text/plain": [
       "   owner_id     owner_username    shortcode is_video  \\\n",
       "0  36063641  christendominique  C3_GS1ASeWI    False   \n",
       "\n",
       "                                             caption comments  likes  \\\n",
       "0  I’m a brunch & Iced Coffee girlie☕️🍳 \\n\\nTop @...      268  16382   \n",
       "\n",
       "     created_at location                                           imageUrl  \\\n",
       "0  1.709327e+09      NaN  https://instagram.flba2-1.fna.fbcdn.net/v/t39....   \n",
       "\n",
       "  multiple_images           username  followers  following  \n",
       "0            True  christendominique  2144626.0     1021.0  "
      ]
     },
     "execution_count": 3,
     "metadata": {},
     "output_type": "execute_result"
    }
   ],
   "source": [
    "path = \"../instagram_data.csv\"\n",
    "data =pd.read_csv(path)\n",
    "data.head(1)"
   ]
  },
  {
   "cell_type": "code",
   "execution_count": 4,
   "metadata": {},
   "outputs": [
    {
     "data": {
      "text/plain": [
       "(11692, 14)"
      ]
     },
     "execution_count": 4,
     "metadata": {},
     "output_type": "execute_result"
    }
   ],
   "source": [
    "data.shape"
   ]
  },
  {
   "cell_type": "code",
   "execution_count": 5,
   "metadata": {},
   "outputs": [
    {
     "data": {
      "text/plain": [
       "owner_id              0\n",
       "owner_username        2\n",
       "shortcode             2\n",
       "is_video              2\n",
       "caption             161\n",
       "comments              2\n",
       "likes                 2\n",
       "created_at            3\n",
       "location           7169\n",
       "imageUrl              3\n",
       "multiple_images       3\n",
       "username           2115\n",
       "followers          2115\n",
       "following          2115\n",
       "dtype: int64"
      ]
     },
     "execution_count": 5,
     "metadata": {},
     "output_type": "execute_result"
    }
   ],
   "source": [
    "data.isna().sum()"
   ]
  },
  {
   "cell_type": "markdown",
   "metadata": {},
   "source": [
    "drop nan values in caption column"
   ]
  },
  {
   "cell_type": "code",
   "execution_count": 6,
   "metadata": {},
   "outputs": [],
   "source": [
    "data.dropna(subset=[\"caption\", \"username\"], inplace=True)"
   ]
  },
  {
   "cell_type": "markdown",
   "metadata": {},
   "source": [
    "see if there is any diffrance in user names on two column for each row \n",
    "there are some cases but just when username is NAN\n"
   ]
  },
  {
   "cell_type": "code",
   "execution_count": 7,
   "metadata": {},
   "outputs": [
    {
     "data": {
      "text/html": [
       "<div>\n",
       "<style scoped>\n",
       "    .dataframe tbody tr th:only-of-type {\n",
       "        vertical-align: middle;\n",
       "    }\n",
       "\n",
       "    .dataframe tbody tr th {\n",
       "        vertical-align: top;\n",
       "    }\n",
       "\n",
       "    .dataframe thead th {\n",
       "        text-align: right;\n",
       "    }\n",
       "</style>\n",
       "<table border=\"1\" class=\"dataframe\">\n",
       "  <thead>\n",
       "    <tr style=\"text-align: right;\">\n",
       "      <th></th>\n",
       "      <th>owner_id</th>\n",
       "      <th>owner_username</th>\n",
       "      <th>shortcode</th>\n",
       "      <th>is_video</th>\n",
       "      <th>caption</th>\n",
       "      <th>comments</th>\n",
       "      <th>likes</th>\n",
       "      <th>created_at</th>\n",
       "      <th>location</th>\n",
       "      <th>imageUrl</th>\n",
       "      <th>multiple_images</th>\n",
       "      <th>username</th>\n",
       "      <th>followers</th>\n",
       "      <th>following</th>\n",
       "    </tr>\n",
       "  </thead>\n",
       "  <tbody>\n",
       "  </tbody>\n",
       "</table>\n",
       "</div>"
      ],
      "text/plain": [
       "Empty DataFrame\n",
       "Columns: [owner_id, owner_username, shortcode, is_video, caption, comments, likes, created_at, location, imageUrl, multiple_images, username, followers, following]\n",
       "Index: []"
      ]
     },
     "execution_count": 7,
     "metadata": {},
     "output_type": "execute_result"
    }
   ],
   "source": [
    "data.loc[(data.owner_username != data.username) & (data.username.isna() != True)]"
   ]
  },
  {
   "cell_type": "code",
   "execution_count": 8,
   "metadata": {},
   "outputs": [
    {
     "data": {
      "text/plain": [
       "owner_id              0\n",
       "owner_username        0\n",
       "shortcode             0\n",
       "is_video              0\n",
       "caption               0\n",
       "comments              0\n",
       "likes                 0\n",
       "created_at            0\n",
       "location           5697\n",
       "imageUrl              0\n",
       "multiple_images       0\n",
       "username              0\n",
       "followers             0\n",
       "following             0\n",
       "dtype: int64"
      ]
     },
     "execution_count": 8,
     "metadata": {},
     "output_type": "execute_result"
    }
   ],
   "source": [
    "data.isna().sum()"
   ]
  },
  {
   "cell_type": "markdown",
   "metadata": {},
   "source": [
    "---\n",
    "# Handling duplicates"
   ]
  },
  {
   "cell_type": "code",
   "execution_count": 9,
   "metadata": {},
   "outputs": [
    {
     "data": {
      "text/plain": [
       "(9441, 14)"
      ]
     },
     "execution_count": 9,
     "metadata": {},
     "output_type": "execute_result"
    }
   ],
   "source": [
    "data.shape"
   ]
  },
  {
   "cell_type": "code",
   "execution_count": 10,
   "metadata": {},
   "outputs": [],
   "source": [
    "data.drop_duplicates(inplace=True)\n"
   ]
  },
  {
   "cell_type": "code",
   "execution_count": 11,
   "metadata": {},
   "outputs": [
    {
     "data": {
      "text/plain": [
       "(6844, 14)"
      ]
     },
     "execution_count": 11,
     "metadata": {},
     "output_type": "execute_result"
    }
   ],
   "source": [
    "data.shape"
   ]
  },
  {
   "cell_type": "markdown",
   "metadata": {},
   "source": [
    "-------"
   ]
  },
  {
   "cell_type": "markdown",
   "metadata": {},
   "source": [
    "# Check DataType "
   ]
  },
  {
   "cell_type": "code",
   "execution_count": 19,
   "metadata": {},
   "outputs": [
    {
     "name": "stdout",
     "output_type": "stream",
     "text": [
      "<class 'pandas.core.frame.DataFrame'>\n",
      "Index: 6844 entries, 0 to 11690\n",
      "Data columns (total 17 columns):\n",
      " #   Column                 Non-Null Count  Dtype  \n",
      "---  ------                 --------------  -----  \n",
      " 0   owner_id               6844 non-null   object \n",
      " 1   owner_username         6844 non-null   object \n",
      " 2   shortcode              6844 non-null   object \n",
      " 3   is_video               6844 non-null   object \n",
      " 4   caption                6844 non-null   object \n",
      " 5   comments               6844 non-null   object \n",
      " 6   likes                  6844 non-null   object \n",
      " 7   created_at             6844 non-null   float64\n",
      " 8   location               2784 non-null   object \n",
      " 9   imageUrl               6844 non-null   object \n",
      " 10  multiple_images        6844 non-null   object \n",
      " 11  username               6844 non-null   object \n",
      " 12  followers              6844 non-null   float64\n",
      " 13  following              6844 non-null   float64\n",
      " 14  caption_emotions       6844 non-null   object \n",
      " 15  most_powerful_emotion  6844 non-null   object \n",
      " 16  emotion_score          6844 non-null   float32\n",
      "dtypes: float32(1), float64(3), object(13)\n",
      "memory usage: 935.7+ KB\n"
     ]
    }
   ],
   "source": [
    "data.info()"
   ]
  },
  {
   "cell_type": "code",
   "execution_count": 20,
   "metadata": {},
   "outputs": [],
   "source": [
    "data[\"is_video\"] = data[\"is_video\"].astype(bool)\n",
    "data[\"comments\"] = data[\"comments\"].astype(int)\n",
    "data[\"likes\"] = data[\"likes\"].astype(int)\n",
    "data[\"multiple_images\"] = data[\"multiple_images\"].astype(bool)"
   ]
  },
  {
   "cell_type": "markdown",
   "metadata": {},
   "source": [
    "-----"
   ]
  },
  {
   "cell_type": "markdown",
   "metadata": {},
   "source": [
    "# Sentiment analysis with Roberta\n"
   ]
  },
  {
   "cell_type": "markdown",
   "metadata": {},
   "source": [
    "I want to perform sentiment analysis on captions in this dataset.\n",
    "for this analysis i will use `transform` library and `Roberta` model."
   ]
  },
  {
   "cell_type": "code",
   "execution_count": 21,
   "metadata": {},
   "outputs": [],
   "source": [
    "MODEL = f\"cardiffnlp/twitter-xlm-roberta-base-sentiment\"\n",
    "tokenizer = AutoTokenizer.from_pretrained(MODEL)\n",
    "model = AutoModelForSequenceClassification.from_pretrained(MODEL)"
   ]
  },
  {
   "cell_type": "code",
   "execution_count": 22,
   "metadata": {},
   "outputs": [],
   "source": [
    "def emotional_text(row):\n",
    "\n",
    "    text = row[\"caption\"]\n",
    "    encoded_text = tokenizer(text, return_tensors=\"pt\", padding=True, truncation=True, max_length=512)\n",
    "    output = model(**encoded_text)\n",
    "    scores = output.logits[0].detach().numpy()\n",
    "    scores = softmax(scores)\n",
    "    scores_dict = {\"neg\": scores[0], \"neu\": scores[1], \"pos\": scores[2]}\n",
    "\n",
    "    max_key, max_value = max(scores_dict.items(), key=lambda item: item[1])\n",
    "\n",
    "    return scores_dict, max_key, max_value"
   ]
  },
  {
   "cell_type": "code",
   "execution_count": 23,
   "metadata": {},
   "outputs": [
    {
     "data": {
      "text/html": [
       "<div>\n",
       "<style scoped>\n",
       "    .dataframe tbody tr th:only-of-type {\n",
       "        vertical-align: middle;\n",
       "    }\n",
       "\n",
       "    .dataframe tbody tr th {\n",
       "        vertical-align: top;\n",
       "    }\n",
       "\n",
       "    .dataframe thead th {\n",
       "        text-align: right;\n",
       "    }\n",
       "</style>\n",
       "<table border=\"1\" class=\"dataframe\">\n",
       "  <thead>\n",
       "    <tr style=\"text-align: right;\">\n",
       "      <th></th>\n",
       "      <th>owner_id</th>\n",
       "      <th>owner_username</th>\n",
       "      <th>shortcode</th>\n",
       "      <th>is_video</th>\n",
       "      <th>caption</th>\n",
       "      <th>comments</th>\n",
       "      <th>likes</th>\n",
       "      <th>created_at</th>\n",
       "      <th>location</th>\n",
       "      <th>imageUrl</th>\n",
       "      <th>multiple_images</th>\n",
       "      <th>username</th>\n",
       "      <th>followers</th>\n",
       "      <th>following</th>\n",
       "      <th>caption_emotions</th>\n",
       "      <th>most_powerful_emotion</th>\n",
       "      <th>emotion_score</th>\n",
       "    </tr>\n",
       "  </thead>\n",
       "  <tbody>\n",
       "    <tr>\n",
       "      <th>0</th>\n",
       "      <td>36063641</td>\n",
       "      <td>christendominique</td>\n",
       "      <td>C3_GS1ASeWI</td>\n",
       "      <td>True</td>\n",
       "      <td>I’m a brunch &amp; Iced Coffee girlie☕️🍳 \\n\\nTop @...</td>\n",
       "      <td>268</td>\n",
       "      <td>16382</td>\n",
       "      <td>1.709327e+09</td>\n",
       "      <td>NaN</td>\n",
       "      <td>https://instagram.flba2-1.fna.fbcdn.net/v/t39....</td>\n",
       "      <td>True</td>\n",
       "      <td>christendominique</td>\n",
       "      <td>2144626.0</td>\n",
       "      <td>1021.0</td>\n",
       "      <td>{'neg': 0.034616627, 'neu': 0.6108251, 'pos': ...</td>\n",
       "      <td>neu</td>\n",
       "      <td>0.610825</td>\n",
       "    </tr>\n",
       "  </tbody>\n",
       "</table>\n",
       "</div>"
      ],
      "text/plain": [
       "   owner_id     owner_username    shortcode  is_video  \\\n",
       "0  36063641  christendominique  C3_GS1ASeWI      True   \n",
       "\n",
       "                                             caption  comments  likes  \\\n",
       "0  I’m a brunch & Iced Coffee girlie☕️🍳 \\n\\nTop @...       268  16382   \n",
       "\n",
       "     created_at location                                           imageUrl  \\\n",
       "0  1.709327e+09      NaN  https://instagram.flba2-1.fna.fbcdn.net/v/t39....   \n",
       "\n",
       "   multiple_images           username  followers  following  \\\n",
       "0             True  christendominique  2144626.0     1021.0   \n",
       "\n",
       "                                    caption_emotions most_powerful_emotion  \\\n",
       "0  {'neg': 0.034616627, 'neu': 0.6108251, 'pos': ...                   neu   \n",
       "\n",
       "   emotion_score  \n",
       "0       0.610825  "
      ]
     },
     "execution_count": 23,
     "metadata": {},
     "output_type": "execute_result"
    }
   ],
   "source": [
    "data[\"caption_emotions\"], data[\"most_powerful_emotion\"], data[\"emotion_score\"] = zip(*data.apply(emotional_text, axis=1))\n",
    "data.head(1)"
   ]
  },
  {
   "cell_type": "code",
   "execution_count": 24,
   "metadata": {},
   "outputs": [],
   "source": [
    "folder_path = '../2.Data_with_detected_caption_emotions'\n",
    "if not os.path.exists(folder_path):\n",
    "    os.makedirs(folder_path)\n",
    "\n",
    "# Save each DataFrame to a CSV file in the new folder\n",
    "data.to_csv(os.path.join(folder_path, 'Data_with_detected_caption_emotions.csv'), index=False)"
   ]
  },
  {
   "cell_type": "markdown",
   "metadata": {},
   "source": [
    "----"
   ]
  },
  {
   "cell_type": "markdown",
   "metadata": {},
   "source": [
    "# Engagement Rate\n",
    "#### `Instagram Post Engagement Rate = (Post’s Likes + Post’s Comments) / Followers * 100%` \n",
    "Average Engagement Rates:\n",
    "As an industry standard, here are some benchmarks for engagement rates on Instagram:\n",
    "\n",
    "Between 1% and 3.5%: This is considered an average/good engagement rate.\n",
    "\n",
    "Between 3.5% and 6%: This indicates a high engagement rate.\n",
    "\n",
    "Above 6%: A rate above 6% is considered very high engagement2.\n",
    "\n",
    "Keep in mind that these ranges can vary based on factors like niche, content type, and audience demographics."
   ]
  },
  {
   "cell_type": "code",
   "execution_count": 27,
   "metadata": {},
   "outputs": [
    {
     "data": {
      "text/html": [
       "<div>\n",
       "<style scoped>\n",
       "    .dataframe tbody tr th:only-of-type {\n",
       "        vertical-align: middle;\n",
       "    }\n",
       "\n",
       "    .dataframe tbody tr th {\n",
       "        vertical-align: top;\n",
       "    }\n",
       "\n",
       "    .dataframe thead th {\n",
       "        text-align: right;\n",
       "    }\n",
       "</style>\n",
       "<table border=\"1\" class=\"dataframe\">\n",
       "  <thead>\n",
       "    <tr style=\"text-align: right;\">\n",
       "      <th></th>\n",
       "      <th>owner_id</th>\n",
       "      <th>owner_username</th>\n",
       "      <th>shortcode</th>\n",
       "      <th>is_video</th>\n",
       "      <th>caption</th>\n",
       "      <th>comments</th>\n",
       "      <th>likes</th>\n",
       "      <th>created_at</th>\n",
       "      <th>location</th>\n",
       "      <th>imageUrl</th>\n",
       "      <th>multiple_images</th>\n",
       "      <th>username</th>\n",
       "      <th>followers</th>\n",
       "      <th>following</th>\n",
       "      <th>caption_emotions</th>\n",
       "      <th>most_powerful_emotion</th>\n",
       "      <th>emotion_score</th>\n",
       "      <th>engagement_rate</th>\n",
       "      <th>engagement_rate(%)</th>\n",
       "    </tr>\n",
       "  </thead>\n",
       "  <tbody>\n",
       "    <tr>\n",
       "      <th>0</th>\n",
       "      <td>36063641</td>\n",
       "      <td>christendominique</td>\n",
       "      <td>C3_GS1ASeWI</td>\n",
       "      <td>True</td>\n",
       "      <td>I’m a brunch &amp; Iced Coffee girlie☕️🍳 \\n\\nTop @...</td>\n",
       "      <td>268</td>\n",
       "      <td>16382</td>\n",
       "      <td>1.709327e+09</td>\n",
       "      <td>NaN</td>\n",
       "      <td>https://instagram.flba2-1.fna.fbcdn.net/v/t39....</td>\n",
       "      <td>True</td>\n",
       "      <td>christendominique</td>\n",
       "      <td>2144626.0</td>\n",
       "      <td>1021.0</td>\n",
       "      <td>{'neg': 0.034616627, 'neu': 0.6108251, 'pos': ...</td>\n",
       "      <td>neu</td>\n",
       "      <td>0.610825</td>\n",
       "      <td>0.007764</td>\n",
       "      <td>0.776359</td>\n",
       "    </tr>\n",
       "    <tr>\n",
       "      <th>1</th>\n",
       "      <td>36063641</td>\n",
       "      <td>christendominique</td>\n",
       "      <td>C38ivgNS3IX</td>\n",
       "      <td>True</td>\n",
       "      <td>😮‍💨Brow tips I really wish I would have know w...</td>\n",
       "      <td>138</td>\n",
       "      <td>9267</td>\n",
       "      <td>1.709241e+09</td>\n",
       "      <td>NaN</td>\n",
       "      <td>https://instagram.flba2-1.fna.fbcdn.net/v/t51....</td>\n",
       "      <td>False</td>\n",
       "      <td>christendominique</td>\n",
       "      <td>2144626.0</td>\n",
       "      <td>1021.0</td>\n",
       "      <td>{'neg': 0.17225474, 'neu': 0.5420607, 'pos': 0...</td>\n",
       "      <td>neu</td>\n",
       "      <td>0.542061</td>\n",
       "      <td>0.004385</td>\n",
       "      <td>0.438538</td>\n",
       "    </tr>\n",
       "  </tbody>\n",
       "</table>\n",
       "</div>"
      ],
      "text/plain": [
       "   owner_id     owner_username    shortcode  is_video  \\\n",
       "0  36063641  christendominique  C3_GS1ASeWI      True   \n",
       "1  36063641  christendominique  C38ivgNS3IX      True   \n",
       "\n",
       "                                             caption  comments  likes  \\\n",
       "0  I’m a brunch & Iced Coffee girlie☕️🍳 \\n\\nTop @...       268  16382   \n",
       "1  😮‍💨Brow tips I really wish I would have know w...       138   9267   \n",
       "\n",
       "     created_at location                                           imageUrl  \\\n",
       "0  1.709327e+09      NaN  https://instagram.flba2-1.fna.fbcdn.net/v/t39....   \n",
       "1  1.709241e+09      NaN  https://instagram.flba2-1.fna.fbcdn.net/v/t51....   \n",
       "\n",
       "   multiple_images           username  followers  following  \\\n",
       "0             True  christendominique  2144626.0     1021.0   \n",
       "1            False  christendominique  2144626.0     1021.0   \n",
       "\n",
       "                                    caption_emotions most_powerful_emotion  \\\n",
       "0  {'neg': 0.034616627, 'neu': 0.6108251, 'pos': ...                   neu   \n",
       "1  {'neg': 0.17225474, 'neu': 0.5420607, 'pos': 0...                   neu   \n",
       "\n",
       "   emotion_score  engagement_rate  engagement_rate(%)  \n",
       "0       0.610825         0.007764            0.776359  \n",
       "1       0.542061         0.004385            0.438538  "
      ]
     },
     "execution_count": 27,
     "metadata": {},
     "output_type": "execute_result"
    }
   ],
   "source": [
    "def IPER(row): # Instagram Post Engagement Rate\n",
    "\n",
    "    iper = (row[\"likes\"] + row[\"comments\"]) / row[\"followers\"]\n",
    "    return iper * 100\n",
    "\n",
    "data[\"engagement_rate(%)\"] = data.apply(IPER, axis=1)\n",
    "data.head(2)\n"
   ]
  },
  {
   "cell_type": "markdown",
   "metadata": {},
   "source": [
    "# separating Hashtags"
   ]
  },
  {
   "cell_type": "code",
   "execution_count": 28,
   "metadata": {},
   "outputs": [],
   "source": [
    "def extract_hashtags(row):\n",
    "    text = row[\"caption\"]\n",
    "    hashtag_list = []\n",
    "    for word in text.split():\n",
    " \n",
    "        if word[0] == '#':\n",
    "            hashtag_list.append(word[1:])\n",
    "    return hashtag_list\n",
    "\n",
    "data[\"hashtag\"] = data.apply(extract_hashtags, axis=1)\n",
    " "
   ]
  },
  {
   "cell_type": "code",
   "execution_count": 30,
   "metadata": {},
   "outputs": [
    {
     "data": {
      "text/html": [
       "<div>\n",
       "<style scoped>\n",
       "    .dataframe tbody tr th:only-of-type {\n",
       "        vertical-align: middle;\n",
       "    }\n",
       "\n",
       "    .dataframe tbody tr th {\n",
       "        vertical-align: top;\n",
       "    }\n",
       "\n",
       "    .dataframe thead th {\n",
       "        text-align: right;\n",
       "    }\n",
       "</style>\n",
       "<table border=\"1\" class=\"dataframe\">\n",
       "  <thead>\n",
       "    <tr style=\"text-align: right;\">\n",
       "      <th></th>\n",
       "      <th>owner_id</th>\n",
       "      <th>owner_username</th>\n",
       "      <th>shortcode</th>\n",
       "      <th>is_video</th>\n",
       "      <th>caption</th>\n",
       "      <th>comments</th>\n",
       "      <th>likes</th>\n",
       "      <th>created_at</th>\n",
       "      <th>location</th>\n",
       "      <th>imageUrl</th>\n",
       "      <th>multiple_images</th>\n",
       "      <th>username</th>\n",
       "      <th>followers</th>\n",
       "      <th>following</th>\n",
       "      <th>caption_emotions</th>\n",
       "      <th>most_powerful_emotion</th>\n",
       "      <th>emotion_score</th>\n",
       "      <th>engagement_rate</th>\n",
       "      <th>engagement_rate(%)</th>\n",
       "      <th>hashtag</th>\n",
       "    </tr>\n",
       "  </thead>\n",
       "  <tbody>\n",
       "    <tr>\n",
       "      <th>0</th>\n",
       "      <td>36063641</td>\n",
       "      <td>christendominique</td>\n",
       "      <td>C3_GS1ASeWI</td>\n",
       "      <td>True</td>\n",
       "      <td>I’m a brunch &amp; Iced Coffee girlie☕️🍳 \\n\\nTop @...</td>\n",
       "      <td>268</td>\n",
       "      <td>16382</td>\n",
       "      <td>1.709327e+09</td>\n",
       "      <td>NaN</td>\n",
       "      <td>https://instagram.flba2-1.fna.fbcdn.net/v/t39....</td>\n",
       "      <td>True</td>\n",
       "      <td>christendominique</td>\n",
       "      <td>2144626.0</td>\n",
       "      <td>1021.0</td>\n",
       "      <td>{'neg': 0.034616627, 'neu': 0.6108251, 'pos': ...</td>\n",
       "      <td>neu</td>\n",
       "      <td>0.610825</td>\n",
       "      <td>0.007764</td>\n",
       "      <td>0.776359</td>\n",
       "      <td>[]</td>\n",
       "    </tr>\n",
       "    <tr>\n",
       "      <th>1</th>\n",
       "      <td>36063641</td>\n",
       "      <td>christendominique</td>\n",
       "      <td>C38ivgNS3IX</td>\n",
       "      <td>True</td>\n",
       "      <td>😮‍💨Brow tips I really wish I would have know w...</td>\n",
       "      <td>138</td>\n",
       "      <td>9267</td>\n",
       "      <td>1.709241e+09</td>\n",
       "      <td>NaN</td>\n",
       "      <td>https://instagram.flba2-1.fna.fbcdn.net/v/t51....</td>\n",
       "      <td>False</td>\n",
       "      <td>christendominique</td>\n",
       "      <td>2144626.0</td>\n",
       "      <td>1021.0</td>\n",
       "      <td>{'neg': 0.17225474, 'neu': 0.5420607, 'pos': 0...</td>\n",
       "      <td>neu</td>\n",
       "      <td>0.542061</td>\n",
       "      <td>0.004385</td>\n",
       "      <td>0.438538</td>\n",
       "      <td>[browtips, eyebrowtutorial, browmakeup, eyebro...</td>\n",
       "    </tr>\n",
       "    <tr>\n",
       "      <th>2</th>\n",
       "      <td>36063641</td>\n",
       "      <td>christendominique</td>\n",
       "      <td>C35-Dd9SO1b</td>\n",
       "      <td>True</td>\n",
       "      <td>OMG I can’t believe it’s already been 1 yr sin...</td>\n",
       "      <td>1089</td>\n",
       "      <td>10100</td>\n",
       "      <td>1.709155e+09</td>\n",
       "      <td>NaN</td>\n",
       "      <td>https://instagram.flba2-1.fna.fbcdn.net/v/t51....</td>\n",
       "      <td>False</td>\n",
       "      <td>christendominique</td>\n",
       "      <td>2144626.0</td>\n",
       "      <td>1021.0</td>\n",
       "      <td>{'neg': 0.09999306, 'neu': 0.23255272, 'pos': ...</td>\n",
       "      <td>pos</td>\n",
       "      <td>0.667454</td>\n",
       "      <td>0.005217</td>\n",
       "      <td>0.521723</td>\n",
       "      <td>[sigmaxchristendominique, makeupforbeginners, ...</td>\n",
       "    </tr>\n",
       "    <tr>\n",
       "      <th>3</th>\n",
       "      <td>36063641</td>\n",
       "      <td>christendominique</td>\n",
       "      <td>C33TadDMisq</td>\n",
       "      <td>True</td>\n",
       "      <td>90’s Glam was Pam! \\n\\nMakeup \\n@smashboxcosme...</td>\n",
       "      <td>271</td>\n",
       "      <td>6943</td>\n",
       "      <td>1.709065e+09</td>\n",
       "      <td>NaN</td>\n",
       "      <td>https://instagram.flba2-1.fna.fbcdn.net/v/t51....</td>\n",
       "      <td>False</td>\n",
       "      <td>christendominique</td>\n",
       "      <td>2144626.0</td>\n",
       "      <td>1021.0</td>\n",
       "      <td>{'neg': 0.14957997, 'neu': 0.6310919, 'pos': 0...</td>\n",
       "      <td>neu</td>\n",
       "      <td>0.631092</td>\n",
       "      <td>0.003364</td>\n",
       "      <td>0.336376</td>\n",
       "      <td>[90smakeup, sbxambassador, 90smakeup, glammake...</td>\n",
       "    </tr>\n",
       "    <tr>\n",
       "      <th>4</th>\n",
       "      <td>36063641</td>\n",
       "      <td>christendominique</td>\n",
       "      <td>C3s-Cm1yCba</td>\n",
       "      <td>True</td>\n",
       "      <td>Chiseled &amp; Sculptured 🏛️\\n\\n Contour @westmana...</td>\n",
       "      <td>145</td>\n",
       "      <td>17158</td>\n",
       "      <td>1.708718e+09</td>\n",
       "      <td>NaN</td>\n",
       "      <td>https://instagram.flba2-1.fna.fbcdn.net/v/t51....</td>\n",
       "      <td>False</td>\n",
       "      <td>christendominique</td>\n",
       "      <td>2144626.0</td>\n",
       "      <td>1021.0</td>\n",
       "      <td>{'neg': 0.06114171, 'neu': 0.7887955, 'pos': 0...</td>\n",
       "      <td>neu</td>\n",
       "      <td>0.788795</td>\n",
       "      <td>0.008068</td>\n",
       "      <td>0.806807</td>\n",
       "      <td>[contour, makeup, makeuptutorial, contourtutor...</td>\n",
       "    </tr>\n",
       "  </tbody>\n",
       "</table>\n",
       "</div>"
      ],
      "text/plain": [
       "   owner_id     owner_username    shortcode  is_video  \\\n",
       "0  36063641  christendominique  C3_GS1ASeWI      True   \n",
       "1  36063641  christendominique  C38ivgNS3IX      True   \n",
       "2  36063641  christendominique  C35-Dd9SO1b      True   \n",
       "3  36063641  christendominique  C33TadDMisq      True   \n",
       "4  36063641  christendominique  C3s-Cm1yCba      True   \n",
       "\n",
       "                                             caption  comments  likes  \\\n",
       "0  I’m a brunch & Iced Coffee girlie☕️🍳 \\n\\nTop @...       268  16382   \n",
       "1  😮‍💨Brow tips I really wish I would have know w...       138   9267   \n",
       "2  OMG I can’t believe it’s already been 1 yr sin...      1089  10100   \n",
       "3  90’s Glam was Pam! \\n\\nMakeup \\n@smashboxcosme...       271   6943   \n",
       "4  Chiseled & Sculptured 🏛️\\n\\n Contour @westmana...       145  17158   \n",
       "\n",
       "     created_at location                                           imageUrl  \\\n",
       "0  1.709327e+09      NaN  https://instagram.flba2-1.fna.fbcdn.net/v/t39....   \n",
       "1  1.709241e+09      NaN  https://instagram.flba2-1.fna.fbcdn.net/v/t51....   \n",
       "2  1.709155e+09      NaN  https://instagram.flba2-1.fna.fbcdn.net/v/t51....   \n",
       "3  1.709065e+09      NaN  https://instagram.flba2-1.fna.fbcdn.net/v/t51....   \n",
       "4  1.708718e+09      NaN  https://instagram.flba2-1.fna.fbcdn.net/v/t51....   \n",
       "\n",
       "   multiple_images           username  followers  following  \\\n",
       "0             True  christendominique  2144626.0     1021.0   \n",
       "1            False  christendominique  2144626.0     1021.0   \n",
       "2            False  christendominique  2144626.0     1021.0   \n",
       "3            False  christendominique  2144626.0     1021.0   \n",
       "4            False  christendominique  2144626.0     1021.0   \n",
       "\n",
       "                                    caption_emotions most_powerful_emotion  \\\n",
       "0  {'neg': 0.034616627, 'neu': 0.6108251, 'pos': ...                   neu   \n",
       "1  {'neg': 0.17225474, 'neu': 0.5420607, 'pos': 0...                   neu   \n",
       "2  {'neg': 0.09999306, 'neu': 0.23255272, 'pos': ...                   pos   \n",
       "3  {'neg': 0.14957997, 'neu': 0.6310919, 'pos': 0...                   neu   \n",
       "4  {'neg': 0.06114171, 'neu': 0.7887955, 'pos': 0...                   neu   \n",
       "\n",
       "   emotion_score  engagement_rate  engagement_rate(%)  \\\n",
       "0       0.610825         0.007764            0.776359   \n",
       "1       0.542061         0.004385            0.438538   \n",
       "2       0.667454         0.005217            0.521723   \n",
       "3       0.631092         0.003364            0.336376   \n",
       "4       0.788795         0.008068            0.806807   \n",
       "\n",
       "                                             hashtag  \n",
       "0                                                 []  \n",
       "1  [browtips, eyebrowtutorial, browmakeup, eyebro...  \n",
       "2  [sigmaxchristendominique, makeupforbeginners, ...  \n",
       "3  [90smakeup, sbxambassador, 90smakeup, glammake...  \n",
       "4  [contour, makeup, makeuptutorial, contourtutor...  "
      ]
     },
     "execution_count": 30,
     "metadata": {},
     "output_type": "execute_result"
    }
   ],
   "source": [
    "data.head()"
   ]
  },
  {
   "cell_type": "markdown",
   "metadata": {},
   "source": [
    "---"
   ]
  },
  {
   "cell_type": "markdown",
   "metadata": {},
   "source": [
    "# Adding data and time"
   ]
  },
  {
   "cell_type": "code",
   "execution_count": 31,
   "metadata": {},
   "outputs": [],
   "source": [
    "data[\"date\"] = pd.to_datetime(data['created_at'], unit='s').dt.date\n",
    "data[\"time\"] = pd.to_datetime(data['created_at'], unit='s').dt.time"
   ]
  },
  {
   "cell_type": "markdown",
   "metadata": {},
   "source": [
    "----"
   ]
  },
  {
   "cell_type": "markdown",
   "metadata": {},
   "source": [
    "# Locational Data\n",
    "data rows with filled location values"
   ]
  },
  {
   "cell_type": "code",
   "execution_count": 32,
   "metadata": {},
   "outputs": [
    {
     "data": {
      "text/html": [
       "<div>\n",
       "<style scoped>\n",
       "    .dataframe tbody tr th:only-of-type {\n",
       "        vertical-align: middle;\n",
       "    }\n",
       "\n",
       "    .dataframe tbody tr th {\n",
       "        vertical-align: top;\n",
       "    }\n",
       "\n",
       "    .dataframe thead th {\n",
       "        text-align: right;\n",
       "    }\n",
       "</style>\n",
       "<table border=\"1\" class=\"dataframe\">\n",
       "  <thead>\n",
       "    <tr style=\"text-align: right;\">\n",
       "      <th></th>\n",
       "      <th>owner_id</th>\n",
       "      <th>owner_username</th>\n",
       "      <th>shortcode</th>\n",
       "      <th>is_video</th>\n",
       "      <th>caption</th>\n",
       "      <th>comments</th>\n",
       "      <th>likes</th>\n",
       "      <th>created_at</th>\n",
       "      <th>location</th>\n",
       "      <th>imageUrl</th>\n",
       "      <th>...</th>\n",
       "      <th>followers</th>\n",
       "      <th>following</th>\n",
       "      <th>caption_emotions</th>\n",
       "      <th>most_powerful_emotion</th>\n",
       "      <th>emotion_score</th>\n",
       "      <th>engagement_rate</th>\n",
       "      <th>engagement_rate(%)</th>\n",
       "      <th>hashtag</th>\n",
       "      <th>date</th>\n",
       "      <th>time</th>\n",
       "    </tr>\n",
       "  </thead>\n",
       "  <tbody>\n",
       "    <tr>\n",
       "      <th>28</th>\n",
       "      <td>40506412</td>\n",
       "      <td>christinehmcconnell</td>\n",
       "      <td>CzJtDjegmdI</td>\n",
       "      <td>True</td>\n",
       "      <td>Had an amazing time in #salem for Halloween th...</td>\n",
       "      <td>466</td>\n",
       "      <td>79000</td>\n",
       "      <td>1.698945e+09</td>\n",
       "      <td>{'id': '34537076', 'has_public_page': True, 'n...</td>\n",
       "      <td>https://instagram.ffor43-1.fna.fbcdn.net/v/t39...</td>\n",
       "      <td>...</td>\n",
       "      <td>597189.0</td>\n",
       "      <td>1576.0</td>\n",
       "      <td>{'neg': 0.020397255, 'neu': 0.08311723, 'pos':...</td>\n",
       "      <td>pos</td>\n",
       "      <td>0.896486</td>\n",
       "      <td>0.133067</td>\n",
       "      <td>13.306675</td>\n",
       "      <td>[salem, halloween, salemjack]</td>\n",
       "      <td>2023-11-02</td>\n",
       "      <td>17:13:26</td>\n",
       "    </tr>\n",
       "  </tbody>\n",
       "</table>\n",
       "<p>1 rows × 22 columns</p>\n",
       "</div>"
      ],
      "text/plain": [
       "    owner_id       owner_username    shortcode  is_video  \\\n",
       "28  40506412  christinehmcconnell  CzJtDjegmdI      True   \n",
       "\n",
       "                                              caption  comments  likes  \\\n",
       "28  Had an amazing time in #salem for Halloween th...       466  79000   \n",
       "\n",
       "      created_at                                           location  \\\n",
       "28  1.698945e+09  {'id': '34537076', 'has_public_page': True, 'n...   \n",
       "\n",
       "                                             imageUrl  ...  followers  \\\n",
       "28  https://instagram.ffor43-1.fna.fbcdn.net/v/t39...  ...   597189.0   \n",
       "\n",
       "   following                                   caption_emotions  \\\n",
       "28    1576.0  {'neg': 0.020397255, 'neu': 0.08311723, 'pos':...   \n",
       "\n",
       "    most_powerful_emotion emotion_score engagement_rate  engagement_rate(%)  \\\n",
       "28                    pos      0.896486        0.133067           13.306675   \n",
       "\n",
       "                          hashtag        date      time  \n",
       "28  [salem, halloween, salemjack]  2023-11-02  17:13:26  \n",
       "\n",
       "[1 rows x 22 columns]"
      ]
     },
     "execution_count": 32,
     "metadata": {},
     "output_type": "execute_result"
    }
   ],
   "source": [
    "locational_data = data.loc[data.location.isna() != True]\n",
    "locational_data.head(1)"
   ]
  },
  {
   "cell_type": "markdown",
   "metadata": {},
   "source": [
    "*`coverting all values to dictionary`*"
   ]
  },
  {
   "cell_type": "code",
   "execution_count": 33,
   "metadata": {},
   "outputs": [],
   "source": [
    "def dict_maker(row):\n",
    "    return ast.literal_eval(row[\"location\"])\n",
    "\n",
    "locational_data[\"location\"] = locational_data.apply(dict_maker, axis=1)"
   ]
  },
  {
   "cell_type": "markdown",
   "metadata": {},
   "source": [
    "*`getting all city names in dictionary, and then replace the final list of city names with current column of location`*"
   ]
  },
  {
   "cell_type": "code",
   "execution_count": 34,
   "metadata": {},
   "outputs": [],
   "source": [
    "location = []\n",
    "for key in locational_data.location:\n",
    "    location.append(key[\"slug\"])\n",
    "\n",
    "# replace old colum with new list\n",
    "locational_data.location = location"
   ]
  },
  {
   "cell_type": "code",
   "execution_count": 35,
   "metadata": {},
   "outputs": [
    {
     "data": {
      "text/html": [
       "<div>\n",
       "<style scoped>\n",
       "    .dataframe tbody tr th:only-of-type {\n",
       "        vertical-align: middle;\n",
       "    }\n",
       "\n",
       "    .dataframe tbody tr th {\n",
       "        vertical-align: top;\n",
       "    }\n",
       "\n",
       "    .dataframe thead th {\n",
       "        text-align: right;\n",
       "    }\n",
       "</style>\n",
       "<table border=\"1\" class=\"dataframe\">\n",
       "  <thead>\n",
       "    <tr style=\"text-align: right;\">\n",
       "      <th></th>\n",
       "      <th>owner_id</th>\n",
       "      <th>owner_username</th>\n",
       "      <th>shortcode</th>\n",
       "      <th>is_video</th>\n",
       "      <th>caption</th>\n",
       "      <th>comments</th>\n",
       "      <th>likes</th>\n",
       "      <th>created_at</th>\n",
       "      <th>location</th>\n",
       "      <th>imageUrl</th>\n",
       "      <th>...</th>\n",
       "      <th>followers</th>\n",
       "      <th>following</th>\n",
       "      <th>caption_emotions</th>\n",
       "      <th>most_powerful_emotion</th>\n",
       "      <th>emotion_score</th>\n",
       "      <th>engagement_rate</th>\n",
       "      <th>engagement_rate(%)</th>\n",
       "      <th>hashtag</th>\n",
       "      <th>date</th>\n",
       "      <th>time</th>\n",
       "    </tr>\n",
       "  </thead>\n",
       "  <tbody>\n",
       "    <tr>\n",
       "      <th>28</th>\n",
       "      <td>40506412</td>\n",
       "      <td>christinehmcconnell</td>\n",
       "      <td>CzJtDjegmdI</td>\n",
       "      <td>True</td>\n",
       "      <td>Had an amazing time in #salem for Halloween th...</td>\n",
       "      <td>466</td>\n",
       "      <td>79000</td>\n",
       "      <td>1.698945e+09</td>\n",
       "      <td>salem-massachusetts</td>\n",
       "      <td>https://instagram.ffor43-1.fna.fbcdn.net/v/t39...</td>\n",
       "      <td>...</td>\n",
       "      <td>597189.0</td>\n",
       "      <td>1576.0</td>\n",
       "      <td>{'neg': 0.020397255, 'neu': 0.08311723, 'pos':...</td>\n",
       "      <td>pos</td>\n",
       "      <td>0.896486</td>\n",
       "      <td>0.133067</td>\n",
       "      <td>13.306675</td>\n",
       "      <td>[salem, halloween, salemjack]</td>\n",
       "      <td>2023-11-02</td>\n",
       "      <td>17:13:26</td>\n",
       "    </tr>\n",
       "  </tbody>\n",
       "</table>\n",
       "<p>1 rows × 22 columns</p>\n",
       "</div>"
      ],
      "text/plain": [
       "    owner_id       owner_username    shortcode  is_video  \\\n",
       "28  40506412  christinehmcconnell  CzJtDjegmdI      True   \n",
       "\n",
       "                                              caption  comments  likes  \\\n",
       "28  Had an amazing time in #salem for Halloween th...       466  79000   \n",
       "\n",
       "      created_at             location  \\\n",
       "28  1.698945e+09  salem-massachusetts   \n",
       "\n",
       "                                             imageUrl  ...  followers  \\\n",
       "28  https://instagram.ffor43-1.fna.fbcdn.net/v/t39...  ...   597189.0   \n",
       "\n",
       "   following                                   caption_emotions  \\\n",
       "28    1576.0  {'neg': 0.020397255, 'neu': 0.08311723, 'pos':...   \n",
       "\n",
       "    most_powerful_emotion emotion_score engagement_rate  engagement_rate(%)  \\\n",
       "28                    pos      0.896486        0.133067           13.306675   \n",
       "\n",
       "                          hashtag        date      time  \n",
       "28  [salem, halloween, salemjack]  2023-11-02  17:13:26  \n",
       "\n",
       "[1 rows x 22 columns]"
      ]
     },
     "execution_count": 35,
     "metadata": {},
     "output_type": "execute_result"
    }
   ],
   "source": [
    "locational_data = locational_data[locational_data['username'].notna()]\n",
    "locational_data.head(1)"
   ]
  },
  {
   "cell_type": "markdown",
   "metadata": {},
   "source": [
    "i will convert this to dataset \"Locational_dataset\" "
   ]
  },
  {
   "cell_type": "code",
   "execution_count": 36,
   "metadata": {},
   "outputs": [
    {
     "data": {
      "text/plain": [
       "owner_id                 0\n",
       "owner_username           0\n",
       "shortcode                0\n",
       "is_video                 0\n",
       "caption                  0\n",
       "comments                 0\n",
       "likes                    0\n",
       "created_at               0\n",
       "location                 0\n",
       "imageUrl                 0\n",
       "multiple_images          0\n",
       "username                 0\n",
       "followers                0\n",
       "following                0\n",
       "caption_emotions         0\n",
       "most_powerful_emotion    0\n",
       "emotion_score            0\n",
       "engagement_rate          0\n",
       "engagement_rate(%)       0\n",
       "hashtag                  0\n",
       "date                     0\n",
       "time                     0\n",
       "dtype: int64"
      ]
     },
     "execution_count": 36,
     "metadata": {},
     "output_type": "execute_result"
    }
   ],
   "source": [
    "locational_data.isna().sum()"
   ]
  },
  {
   "cell_type": "code",
   "execution_count": 37,
   "metadata": {},
   "outputs": [
    {
     "data": {
      "text/plain": [
       "(2784, 22)"
      ]
     },
     "execution_count": 37,
     "metadata": {},
     "output_type": "execute_result"
    }
   ],
   "source": [
    "locational_data.shape"
   ]
  },
  {
   "cell_type": "markdown",
   "metadata": {},
   "source": [
    "----"
   ]
  },
  {
   "cell_type": "markdown",
   "metadata": {},
   "source": [
    "# Non-Locational Data"
   ]
  },
  {
   "cell_type": "code",
   "execution_count": 38,
   "metadata": {},
   "outputs": [],
   "source": [
    "nonlocational_data = data.loc[data.username.isna() == False]\n",
    "nonlocational_data.drop(columns=\"location\", inplace=True)"
   ]
  },
  {
   "cell_type": "code",
   "execution_count": 39,
   "metadata": {},
   "outputs": [
    {
     "data": {
      "text/html": [
       "<div>\n",
       "<style scoped>\n",
       "    .dataframe tbody tr th:only-of-type {\n",
       "        vertical-align: middle;\n",
       "    }\n",
       "\n",
       "    .dataframe tbody tr th {\n",
       "        vertical-align: top;\n",
       "    }\n",
       "\n",
       "    .dataframe thead th {\n",
       "        text-align: right;\n",
       "    }\n",
       "</style>\n",
       "<table border=\"1\" class=\"dataframe\">\n",
       "  <thead>\n",
       "    <tr style=\"text-align: right;\">\n",
       "      <th></th>\n",
       "      <th>owner_id</th>\n",
       "      <th>owner_username</th>\n",
       "      <th>shortcode</th>\n",
       "      <th>is_video</th>\n",
       "      <th>caption</th>\n",
       "      <th>comments</th>\n",
       "      <th>likes</th>\n",
       "      <th>created_at</th>\n",
       "      <th>imageUrl</th>\n",
       "      <th>multiple_images</th>\n",
       "      <th>...</th>\n",
       "      <th>followers</th>\n",
       "      <th>following</th>\n",
       "      <th>caption_emotions</th>\n",
       "      <th>most_powerful_emotion</th>\n",
       "      <th>emotion_score</th>\n",
       "      <th>engagement_rate</th>\n",
       "      <th>engagement_rate(%)</th>\n",
       "      <th>hashtag</th>\n",
       "      <th>date</th>\n",
       "      <th>time</th>\n",
       "    </tr>\n",
       "  </thead>\n",
       "  <tbody>\n",
       "    <tr>\n",
       "      <th>0</th>\n",
       "      <td>36063641</td>\n",
       "      <td>christendominique</td>\n",
       "      <td>C3_GS1ASeWI</td>\n",
       "      <td>True</td>\n",
       "      <td>I’m a brunch &amp; Iced Coffee girlie☕️🍳 \\n\\nTop @...</td>\n",
       "      <td>268</td>\n",
       "      <td>16382</td>\n",
       "      <td>1.709327e+09</td>\n",
       "      <td>https://instagram.flba2-1.fna.fbcdn.net/v/t39....</td>\n",
       "      <td>True</td>\n",
       "      <td>...</td>\n",
       "      <td>2144626.0</td>\n",
       "      <td>1021.0</td>\n",
       "      <td>{'neg': 0.034616627, 'neu': 0.6108251, 'pos': ...</td>\n",
       "      <td>neu</td>\n",
       "      <td>0.610825</td>\n",
       "      <td>0.007764</td>\n",
       "      <td>0.776359</td>\n",
       "      <td>[]</td>\n",
       "      <td>2024-03-01</td>\n",
       "      <td>20:59:18</td>\n",
       "    </tr>\n",
       "  </tbody>\n",
       "</table>\n",
       "<p>1 rows × 21 columns</p>\n",
       "</div>"
      ],
      "text/plain": [
       "   owner_id     owner_username    shortcode  is_video  \\\n",
       "0  36063641  christendominique  C3_GS1ASeWI      True   \n",
       "\n",
       "                                             caption  comments  likes  \\\n",
       "0  I’m a brunch & Iced Coffee girlie☕️🍳 \\n\\nTop @...       268  16382   \n",
       "\n",
       "     created_at                                           imageUrl  \\\n",
       "0  1.709327e+09  https://instagram.flba2-1.fna.fbcdn.net/v/t39....   \n",
       "\n",
       "   multiple_images  ...  followers  following  \\\n",
       "0             True  ...  2144626.0     1021.0   \n",
       "\n",
       "                                    caption_emotions most_powerful_emotion  \\\n",
       "0  {'neg': 0.034616627, 'neu': 0.6108251, 'pos': ...                   neu   \n",
       "\n",
       "  emotion_score  engagement_rate  engagement_rate(%)  hashtag        date  \\\n",
       "0      0.610825         0.007764            0.776359       []  2024-03-01   \n",
       "\n",
       "       time  \n",
       "0  20:59:18  \n",
       "\n",
       "[1 rows x 21 columns]"
      ]
     },
     "execution_count": 39,
     "metadata": {},
     "output_type": "execute_result"
    }
   ],
   "source": [
    "nonlocational_data.head(1)"
   ]
  },
  {
   "cell_type": "code",
   "execution_count": 40,
   "metadata": {},
   "outputs": [
    {
     "data": {
      "text/plain": [
       "owner_id                 0\n",
       "owner_username           0\n",
       "shortcode                0\n",
       "is_video                 0\n",
       "caption                  0\n",
       "comments                 0\n",
       "likes                    0\n",
       "created_at               0\n",
       "imageUrl                 0\n",
       "multiple_images          0\n",
       "username                 0\n",
       "followers                0\n",
       "following                0\n",
       "caption_emotions         0\n",
       "most_powerful_emotion    0\n",
       "emotion_score            0\n",
       "engagement_rate          0\n",
       "engagement_rate(%)       0\n",
       "hashtag                  0\n",
       "date                     0\n",
       "time                     0\n",
       "dtype: int64"
      ]
     },
     "execution_count": 40,
     "metadata": {},
     "output_type": "execute_result"
    }
   ],
   "source": [
    "nonlocational_data.isna().sum()"
   ]
  },
  {
   "cell_type": "markdown",
   "metadata": {},
   "source": [
    "---"
   ]
  },
  {
   "cell_type": "markdown",
   "metadata": {},
   "source": [
    "# Exporting Data \n",
    "Exporting Data on csv file in `prepare data` folder"
   ]
  },
  {
   "cell_type": "code",
   "execution_count": 41,
   "metadata": {},
   "outputs": [],
   "source": [
    "folder_path = '../3.Prepared Data'\n",
    "if not os.path.exists(folder_path):\n",
    "    os.makedirs(folder_path)\n",
    "\n",
    "# Save each DataFrame to a CSV file in the new folder\n",
    "nonlocational_data.to_csv(os.path.join(folder_path, 'non_locational_data.csv'), index=False)\n",
    "locational_data.to_csv(os.path.join(folder_path, 'locational_data.csv'), index=False)"
   ]
  },
  {
   "cell_type": "code",
   "execution_count": null,
   "metadata": {},
   "outputs": [],
   "source": []
  }
 ],
 "metadata": {
  "kernelspec": {
   "display_name": "Python 3",
   "language": "python",
   "name": "python3"
  },
  "language_info": {
   "codemirror_mode": {
    "name": "ipython",
    "version": 3
   },
   "file_extension": ".py",
   "mimetype": "text/x-python",
   "name": "python",
   "nbconvert_exporter": "python",
   "pygments_lexer": "ipython3",
   "version": "3.11.0"
  }
 },
 "nbformat": 4,
 "nbformat_minor": 2
}
