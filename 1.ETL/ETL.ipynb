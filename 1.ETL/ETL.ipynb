{
 "cells": [
  {
   "cell_type": "code",
   "execution_count": 39,
   "metadata": {},
   "outputs": [],
   "source": [
    "from transformers import pipeline\n",
    "from transformers import AutoTokenizer, AutoModelForSequenceClassification\n",
    "from scipy.special import softmax\n",
    "import pandas as pd\n",
    "import warnings\n",
    "import ast\n",
    "import os\n",
    "\n",
    "\n",
    "warnings.filterwarnings('ignore') # for more clear output"
   ]
  },
  {
   "cell_type": "markdown",
   "metadata": {},
   "source": [
    "# Reading dataset"
   ]
  },
  {
   "cell_type": "code",
   "execution_count": 40,
   "metadata": {},
   "outputs": [
    {
     "data": {
      "text/html": [
       "<div>\n",
       "<style scoped>\n",
       "    .dataframe tbody tr th:only-of-type {\n",
       "        vertical-align: middle;\n",
       "    }\n",
       "\n",
       "    .dataframe tbody tr th {\n",
       "        vertical-align: top;\n",
       "    }\n",
       "\n",
       "    .dataframe thead th {\n",
       "        text-align: right;\n",
       "    }\n",
       "</style>\n",
       "<table border=\"1\" class=\"dataframe\">\n",
       "  <thead>\n",
       "    <tr style=\"text-align: right;\">\n",
       "      <th></th>\n",
       "      <th>owner_id</th>\n",
       "      <th>owner_username</th>\n",
       "      <th>shortcode</th>\n",
       "      <th>is_video</th>\n",
       "      <th>caption</th>\n",
       "      <th>comments</th>\n",
       "      <th>likes</th>\n",
       "      <th>created_at</th>\n",
       "      <th>location</th>\n",
       "      <th>imageUrl</th>\n",
       "      <th>multiple_images</th>\n",
       "      <th>username</th>\n",
       "      <th>followers</th>\n",
       "      <th>following</th>\n",
       "    </tr>\n",
       "  </thead>\n",
       "  <tbody>\n",
       "    <tr>\n",
       "      <th>0</th>\n",
       "      <td>36063641</td>\n",
       "      <td>christendominique</td>\n",
       "      <td>C3_GS1ASeWI</td>\n",
       "      <td>False</td>\n",
       "      <td>I’m a brunch &amp; Iced Coffee girlie☕️🍳 \\n\\nTop @...</td>\n",
       "      <td>268</td>\n",
       "      <td>16382</td>\n",
       "      <td>1.709327e+09</td>\n",
       "      <td>NaN</td>\n",
       "      <td>https://instagram.flba2-1.fna.fbcdn.net/v/t39....</td>\n",
       "      <td>True</td>\n",
       "      <td>christendominique</td>\n",
       "      <td>2144626.0</td>\n",
       "      <td>1021.0</td>\n",
       "    </tr>\n",
       "  </tbody>\n",
       "</table>\n",
       "</div>"
      ],
      "text/plain": [
       "   owner_id     owner_username    shortcode is_video  \\\n",
       "0  36063641  christendominique  C3_GS1ASeWI    False   \n",
       "\n",
       "                                             caption comments  likes  \\\n",
       "0  I’m a brunch & Iced Coffee girlie☕️🍳 \\n\\nTop @...      268  16382   \n",
       "\n",
       "     created_at location                                           imageUrl  \\\n",
       "0  1.709327e+09      NaN  https://instagram.flba2-1.fna.fbcdn.net/v/t39....   \n",
       "\n",
       "  multiple_images           username  followers  following  \n",
       "0            True  christendominique  2144626.0     1021.0  "
      ]
     },
     "execution_count": 40,
     "metadata": {},
     "output_type": "execute_result"
    }
   ],
   "source": [
    "path = \"../instagram_data.csv\"\n",
    "data =pd.read_csv(path)\n",
    "data.head(1)"
   ]
  },
  {
   "cell_type": "code",
   "execution_count": 41,
   "metadata": {},
   "outputs": [
    {
     "data": {
      "text/plain": [
       "(11692, 14)"
      ]
     },
     "execution_count": 41,
     "metadata": {},
     "output_type": "execute_result"
    }
   ],
   "source": [
    "data.shape"
   ]
  },
  {
   "cell_type": "code",
   "execution_count": 42,
   "metadata": {},
   "outputs": [
    {
     "data": {
      "text/plain": [
       "owner_id              0\n",
       "owner_username        2\n",
       "shortcode             2\n",
       "is_video              2\n",
       "caption             161\n",
       "comments              2\n",
       "likes                 2\n",
       "created_at            3\n",
       "location           7169\n",
       "imageUrl              3\n",
       "multiple_images       3\n",
       "username           2115\n",
       "followers          2115\n",
       "following          2115\n",
       "dtype: int64"
      ]
     },
     "execution_count": 42,
     "metadata": {},
     "output_type": "execute_result"
    }
   ],
   "source": [
    "data.isna().sum()"
   ]
  },
  {
   "cell_type": "markdown",
   "metadata": {},
   "source": [
    "drop nan values in caption column"
   ]
  },
  {
   "cell_type": "code",
   "execution_count": 43,
   "metadata": {},
   "outputs": [],
   "source": [
    "data.dropna(subset=[\"caption\", \"username\"], inplace=True)"
   ]
  },
  {
   "cell_type": "markdown",
   "metadata": {},
   "source": [
    "see if there is any diffrance in user names on two column for each row \n",
    "there are some cases but just when username is NAN\n"
   ]
  },
  {
   "cell_type": "code",
   "execution_count": 44,
   "metadata": {},
   "outputs": [
    {
     "data": {
      "text/html": [
       "<div>\n",
       "<style scoped>\n",
       "    .dataframe tbody tr th:only-of-type {\n",
       "        vertical-align: middle;\n",
       "    }\n",
       "\n",
       "    .dataframe tbody tr th {\n",
       "        vertical-align: top;\n",
       "    }\n",
       "\n",
       "    .dataframe thead th {\n",
       "        text-align: right;\n",
       "    }\n",
       "</style>\n",
       "<table border=\"1\" class=\"dataframe\">\n",
       "  <thead>\n",
       "    <tr style=\"text-align: right;\">\n",
       "      <th></th>\n",
       "      <th>owner_id</th>\n",
       "      <th>owner_username</th>\n",
       "      <th>shortcode</th>\n",
       "      <th>is_video</th>\n",
       "      <th>caption</th>\n",
       "      <th>comments</th>\n",
       "      <th>likes</th>\n",
       "      <th>created_at</th>\n",
       "      <th>location</th>\n",
       "      <th>imageUrl</th>\n",
       "      <th>multiple_images</th>\n",
       "      <th>username</th>\n",
       "      <th>followers</th>\n",
       "      <th>following</th>\n",
       "    </tr>\n",
       "  </thead>\n",
       "  <tbody>\n",
       "  </tbody>\n",
       "</table>\n",
       "</div>"
      ],
      "text/plain": [
       "Empty DataFrame\n",
       "Columns: [owner_id, owner_username, shortcode, is_video, caption, comments, likes, created_at, location, imageUrl, multiple_images, username, followers, following]\n",
       "Index: []"
      ]
     },
     "execution_count": 44,
     "metadata": {},
     "output_type": "execute_result"
    }
   ],
   "source": [
    "data.loc[(data.owner_username != data.username) & (data.username.isna() != True)]"
   ]
  },
  {
   "cell_type": "code",
   "execution_count": 45,
   "metadata": {},
   "outputs": [
    {
     "data": {
      "text/plain": [
       "owner_id              0\n",
       "owner_username        0\n",
       "shortcode             0\n",
       "is_video              0\n",
       "caption               0\n",
       "comments              0\n",
       "likes                 0\n",
       "created_at            0\n",
       "location           5697\n",
       "imageUrl              0\n",
       "multiple_images       0\n",
       "username              0\n",
       "followers             0\n",
       "following             0\n",
       "dtype: int64"
      ]
     },
     "execution_count": 45,
     "metadata": {},
     "output_type": "execute_result"
    }
   ],
   "source": [
    "data.isna().sum()"
   ]
  },
  {
   "cell_type": "markdown",
   "metadata": {},
   "source": [
    "-------"
   ]
  },
  {
   "cell_type": "markdown",
   "metadata": {},
   "source": [
    "# Sentiment analysis with Roberta\n"
   ]
  },
  {
   "cell_type": "markdown",
   "metadata": {},
   "source": [
    "I want to perform sentiment analysis on captions in this dataset.\n",
    "for this analysis i will use `transform` library and `Roberta` model."
   ]
  },
  {
   "cell_type": "code",
   "execution_count": 46,
   "metadata": {},
   "outputs": [],
   "source": [
    "MODEL = f\"cardiffnlp/twitter-xlm-roberta-base-sentiment\"\n",
    "tokenizer = AutoTokenizer.from_pretrained(MODEL)\n",
    "model = AutoModelForSequenceClassification.from_pretrained(MODEL)"
   ]
  },
  {
   "cell_type": "code",
   "execution_count": 52,
   "metadata": {},
   "outputs": [],
   "source": [
    "def emotional_text(row):\n",
    "\n",
    "    text = row[\"caption\"]\n",
    "    encoded_text = tokenizer(text, return_tensors=\"pt\", padding=True, truncation=True, max_length=512)\n",
    "    output = model(**encoded_text)\n",
    "    scores = output.logits[0].detach().numpy()\n",
    "    scores = softmax(scores)\n",
    "    scores_dict = {\"neg\": scores[0], \"neu\": scores[1], \"pos\": scores[2]}\n",
    "\n",
    "    max_key, max_value = max(scores_dict.items(), key=lambda item: item[1])\n",
    "\n",
    "    return scores_dict, max_key, max_value"
   ]
  },
  {
   "cell_type": "code",
   "execution_count": 55,
   "metadata": {},
   "outputs": [
    {
     "data": {
      "text/html": [
       "<div>\n",
       "<style scoped>\n",
       "    .dataframe tbody tr th:only-of-type {\n",
       "        vertical-align: middle;\n",
       "    }\n",
       "\n",
       "    .dataframe tbody tr th {\n",
       "        vertical-align: top;\n",
       "    }\n",
       "\n",
       "    .dataframe thead th {\n",
       "        text-align: right;\n",
       "    }\n",
       "</style>\n",
       "<table border=\"1\" class=\"dataframe\">\n",
       "  <thead>\n",
       "    <tr style=\"text-align: right;\">\n",
       "      <th></th>\n",
       "      <th>owner_id</th>\n",
       "      <th>owner_username</th>\n",
       "      <th>shortcode</th>\n",
       "      <th>is_video</th>\n",
       "      <th>caption</th>\n",
       "      <th>comments</th>\n",
       "      <th>likes</th>\n",
       "      <th>created_at</th>\n",
       "      <th>location</th>\n",
       "      <th>imageUrl</th>\n",
       "      <th>multiple_images</th>\n",
       "      <th>username</th>\n",
       "      <th>followers</th>\n",
       "      <th>following</th>\n",
       "      <th>caption_emotions</th>\n",
       "      <th>most_powerful_emotion</th>\n",
       "      <th>emotion_score</th>\n",
       "    </tr>\n",
       "  </thead>\n",
       "  <tbody>\n",
       "    <tr>\n",
       "      <th>0</th>\n",
       "      <td>36063641</td>\n",
       "      <td>christendominique</td>\n",
       "      <td>C3_GS1ASeWI</td>\n",
       "      <td>False</td>\n",
       "      <td>I’m a brunch &amp; Iced Coffee girlie☕️🍳 \\n\\nTop @...</td>\n",
       "      <td>268</td>\n",
       "      <td>16382</td>\n",
       "      <td>1.709327e+09</td>\n",
       "      <td>NaN</td>\n",
       "      <td>https://instagram.flba2-1.fna.fbcdn.net/v/t39....</td>\n",
       "      <td>True</td>\n",
       "      <td>christendominique</td>\n",
       "      <td>2144626.0</td>\n",
       "      <td>1021.0</td>\n",
       "      <td>{'neg': 0.034616627, 'neu': 0.6108251, 'pos': ...</td>\n",
       "      <td>neu</td>\n",
       "      <td>0.610825</td>\n",
       "    </tr>\n",
       "    <tr>\n",
       "      <th>1</th>\n",
       "      <td>36063641</td>\n",
       "      <td>christendominique</td>\n",
       "      <td>C38ivgNS3IX</td>\n",
       "      <td>True</td>\n",
       "      <td>😮‍💨Brow tips I really wish I would have know w...</td>\n",
       "      <td>138</td>\n",
       "      <td>9267</td>\n",
       "      <td>1.709241e+09</td>\n",
       "      <td>NaN</td>\n",
       "      <td>https://instagram.flba2-1.fna.fbcdn.net/v/t51....</td>\n",
       "      <td>False</td>\n",
       "      <td>christendominique</td>\n",
       "      <td>2144626.0</td>\n",
       "      <td>1021.0</td>\n",
       "      <td>{'neg': 0.17225474, 'neu': 0.5420607, 'pos': 0...</td>\n",
       "      <td>neu</td>\n",
       "      <td>0.542061</td>\n",
       "    </tr>\n",
       "    <tr>\n",
       "      <th>2</th>\n",
       "      <td>36063641</td>\n",
       "      <td>christendominique</td>\n",
       "      <td>C35-Dd9SO1b</td>\n",
       "      <td>True</td>\n",
       "      <td>OMG I can’t believe it’s already been 1 yr sin...</td>\n",
       "      <td>1089</td>\n",
       "      <td>10100</td>\n",
       "      <td>1.709155e+09</td>\n",
       "      <td>NaN</td>\n",
       "      <td>https://instagram.flba2-1.fna.fbcdn.net/v/t51....</td>\n",
       "      <td>False</td>\n",
       "      <td>christendominique</td>\n",
       "      <td>2144626.0</td>\n",
       "      <td>1021.0</td>\n",
       "      <td>{'neg': 0.09999306, 'neu': 0.23255272, 'pos': ...</td>\n",
       "      <td>pos</td>\n",
       "      <td>0.667454</td>\n",
       "    </tr>\n",
       "    <tr>\n",
       "      <th>3</th>\n",
       "      <td>36063641</td>\n",
       "      <td>christendominique</td>\n",
       "      <td>C33TadDMisq</td>\n",
       "      <td>True</td>\n",
       "      <td>90’s Glam was Pam! \\n\\nMakeup \\n@smashboxcosme...</td>\n",
       "      <td>271</td>\n",
       "      <td>6943</td>\n",
       "      <td>1.709065e+09</td>\n",
       "      <td>NaN</td>\n",
       "      <td>https://instagram.flba2-1.fna.fbcdn.net/v/t51....</td>\n",
       "      <td>False</td>\n",
       "      <td>christendominique</td>\n",
       "      <td>2144626.0</td>\n",
       "      <td>1021.0</td>\n",
       "      <td>{'neg': 0.14957997, 'neu': 0.6310919, 'pos': 0...</td>\n",
       "      <td>neu</td>\n",
       "      <td>0.631092</td>\n",
       "    </tr>\n",
       "    <tr>\n",
       "      <th>4</th>\n",
       "      <td>36063641</td>\n",
       "      <td>christendominique</td>\n",
       "      <td>C3s-Cm1yCba</td>\n",
       "      <td>True</td>\n",
       "      <td>Chiseled &amp; Sculptured 🏛️\\n\\n Contour @westmana...</td>\n",
       "      <td>145</td>\n",
       "      <td>17158</td>\n",
       "      <td>1.708718e+09</td>\n",
       "      <td>NaN</td>\n",
       "      <td>https://instagram.flba2-1.fna.fbcdn.net/v/t51....</td>\n",
       "      <td>False</td>\n",
       "      <td>christendominique</td>\n",
       "      <td>2144626.0</td>\n",
       "      <td>1021.0</td>\n",
       "      <td>{'neg': 0.06114171, 'neu': 0.7887955, 'pos': 0...</td>\n",
       "      <td>neu</td>\n",
       "      <td>0.788795</td>\n",
       "    </tr>\n",
       "    <tr>\n",
       "      <th>...</th>\n",
       "      <td>...</td>\n",
       "      <td>...</td>\n",
       "      <td>...</td>\n",
       "      <td>...</td>\n",
       "      <td>...</td>\n",
       "      <td>...</td>\n",
       "      <td>...</td>\n",
       "      <td>...</td>\n",
       "      <td>...</td>\n",
       "      <td>...</td>\n",
       "      <td>...</td>\n",
       "      <td>...</td>\n",
       "      <td>...</td>\n",
       "      <td>...</td>\n",
       "      <td>...</td>\n",
       "      <td>...</td>\n",
       "      <td>...</td>\n",
       "    </tr>\n",
       "    <tr>\n",
       "      <th>11686</th>\n",
       "      <td>877755538</td>\n",
       "      <td>m_eye_nd</td>\n",
       "      <td>C35xLDsPPcj</td>\n",
       "      <td>True</td>\n",
       "      <td>which part is it? 🥺💛🫂</td>\n",
       "      <td>0</td>\n",
       "      <td>123</td>\n",
       "      <td>1.709148e+09</td>\n",
       "      <td>NaN</td>\n",
       "      <td>https://instagram.flba2-1.fna.fbcdn.net/v/t51....</td>\n",
       "      <td>False</td>\n",
       "      <td>m_eye_nd</td>\n",
       "      <td>331373.0</td>\n",
       "      <td>260.0</td>\n",
       "      <td>{'neg': 0.07224331, 'neu': 0.74660265, 'pos': ...</td>\n",
       "      <td>neu</td>\n",
       "      <td>0.746603</td>\n",
       "    </tr>\n",
       "    <tr>\n",
       "      <th>11687</th>\n",
       "      <td>877755538</td>\n",
       "      <td>m_eye_nd</td>\n",
       "      <td>C35pT7pPs8e</td>\n",
       "      <td>False</td>\n",
       "      <td>which one is your fav 🥺💛🌌🌊🥀</td>\n",
       "      <td>4</td>\n",
       "      <td>1241</td>\n",
       "      <td>1.709144e+09</td>\n",
       "      <td>NaN</td>\n",
       "      <td>https://instagram.flba2-1.fna.fbcdn.net/v/t39....</td>\n",
       "      <td>False</td>\n",
       "      <td>m_eye_nd</td>\n",
       "      <td>331373.0</td>\n",
       "      <td>260.0</td>\n",
       "      <td>{'neg': 0.06301919, 'neu': 0.59165555, 'pos': ...</td>\n",
       "      <td>neu</td>\n",
       "      <td>0.591656</td>\n",
       "    </tr>\n",
       "    <tr>\n",
       "      <th>11688</th>\n",
       "      <td>877755538</td>\n",
       "      <td>m_eye_nd</td>\n",
       "      <td>C34fjtCvi45</td>\n",
       "      <td>False</td>\n",
       "      <td>do you miss that? 🥺💛😭</td>\n",
       "      <td>11</td>\n",
       "      <td>806</td>\n",
       "      <td>1.709105e+09</td>\n",
       "      <td>NaN</td>\n",
       "      <td>https://instagram.flba2-1.fna.fbcdn.net/v/t39....</td>\n",
       "      <td>False</td>\n",
       "      <td>m_eye_nd</td>\n",
       "      <td>331373.0</td>\n",
       "      <td>260.0</td>\n",
       "      <td>{'neg': 0.59099007, 'neu': 0.35064402, 'pos': ...</td>\n",
       "      <td>neg</td>\n",
       "      <td>0.590990</td>\n",
       "    </tr>\n",
       "    <tr>\n",
       "      <th>11689</th>\n",
       "      <td>877755538</td>\n",
       "      <td>m_eye_nd</td>\n",
       "      <td>C33nKF4vCQR</td>\n",
       "      <td>False</td>\n",
       "      <td>but it is wonderful while it lasts, right? 🥺💛</td>\n",
       "      <td>15</td>\n",
       "      <td>4828</td>\n",
       "      <td>1.709076e+09</td>\n",
       "      <td>NaN</td>\n",
       "      <td>https://instagram.flba2-1.fna.fbcdn.net/v/t39....</td>\n",
       "      <td>False</td>\n",
       "      <td>m_eye_nd</td>\n",
       "      <td>331373.0</td>\n",
       "      <td>260.0</td>\n",
       "      <td>{'neg': 0.02124086, 'neu': 0.0943668, 'pos': 0...</td>\n",
       "      <td>pos</td>\n",
       "      <td>0.884392</td>\n",
       "    </tr>\n",
       "    <tr>\n",
       "      <th>11690</th>\n",
       "      <td>877755538</td>\n",
       "      <td>m_eye_nd</td>\n",
       "      <td>C30xApcSaO5</td>\n",
       "      <td>False</td>\n",
       "      <td>take a moment to see how far you've come🌼💛🥀</td>\n",
       "      <td>0</td>\n",
       "      <td>740</td>\n",
       "      <td>1.708980e+09</td>\n",
       "      <td>NaN</td>\n",
       "      <td>https://instagram.flba2-1.fna.fbcdn.net/v/t39....</td>\n",
       "      <td>True</td>\n",
       "      <td>m_eye_nd</td>\n",
       "      <td>331373.0</td>\n",
       "      <td>260.0</td>\n",
       "      <td>{'neg': 0.0335089, 'neu': 0.17543155, 'pos': 0...</td>\n",
       "      <td>pos</td>\n",
       "      <td>0.791060</td>\n",
       "    </tr>\n",
       "  </tbody>\n",
       "</table>\n",
       "<p>9441 rows × 17 columns</p>\n",
       "</div>"
      ],
      "text/plain": [
       "        owner_id     owner_username    shortcode is_video  \\\n",
       "0       36063641  christendominique  C3_GS1ASeWI    False   \n",
       "1       36063641  christendominique  C38ivgNS3IX     True   \n",
       "2       36063641  christendominique  C35-Dd9SO1b     True   \n",
       "3       36063641  christendominique  C33TadDMisq     True   \n",
       "4       36063641  christendominique  C3s-Cm1yCba     True   \n",
       "...          ...                ...          ...      ...   \n",
       "11686  877755538           m_eye_nd  C35xLDsPPcj     True   \n",
       "11687  877755538           m_eye_nd  C35pT7pPs8e    False   \n",
       "11688  877755538           m_eye_nd  C34fjtCvi45    False   \n",
       "11689  877755538           m_eye_nd  C33nKF4vCQR    False   \n",
       "11690  877755538           m_eye_nd  C30xApcSaO5    False   \n",
       "\n",
       "                                                 caption comments  likes  \\\n",
       "0      I’m a brunch & Iced Coffee girlie☕️🍳 \\n\\nTop @...      268  16382   \n",
       "1      😮‍💨Brow tips I really wish I would have know w...      138   9267   \n",
       "2      OMG I can’t believe it’s already been 1 yr sin...     1089  10100   \n",
       "3      90’s Glam was Pam! \\n\\nMakeup \\n@smashboxcosme...      271   6943   \n",
       "4      Chiseled & Sculptured 🏛️\\n\\n Contour @westmana...      145  17158   \n",
       "...                                                  ...      ...    ...   \n",
       "11686                              which part is it? 🥺💛🫂        0    123   \n",
       "11687                        which one is your fav 🥺💛🌌🌊🥀        4   1241   \n",
       "11688                              do you miss that? 🥺💛😭       11    806   \n",
       "11689      but it is wonderful while it lasts, right? 🥺💛       15   4828   \n",
       "11690        take a moment to see how far you've come🌼💛🥀        0    740   \n",
       "\n",
       "         created_at location  \\\n",
       "0      1.709327e+09      NaN   \n",
       "1      1.709241e+09      NaN   \n",
       "2      1.709155e+09      NaN   \n",
       "3      1.709065e+09      NaN   \n",
       "4      1.708718e+09      NaN   \n",
       "...             ...      ...   \n",
       "11686  1.709148e+09      NaN   \n",
       "11687  1.709144e+09      NaN   \n",
       "11688  1.709105e+09      NaN   \n",
       "11689  1.709076e+09      NaN   \n",
       "11690  1.708980e+09      NaN   \n",
       "\n",
       "                                                imageUrl multiple_images  \\\n",
       "0      https://instagram.flba2-1.fna.fbcdn.net/v/t39....            True   \n",
       "1      https://instagram.flba2-1.fna.fbcdn.net/v/t51....           False   \n",
       "2      https://instagram.flba2-1.fna.fbcdn.net/v/t51....           False   \n",
       "3      https://instagram.flba2-1.fna.fbcdn.net/v/t51....           False   \n",
       "4      https://instagram.flba2-1.fna.fbcdn.net/v/t51....           False   \n",
       "...                                                  ...             ...   \n",
       "11686  https://instagram.flba2-1.fna.fbcdn.net/v/t51....           False   \n",
       "11687  https://instagram.flba2-1.fna.fbcdn.net/v/t39....           False   \n",
       "11688  https://instagram.flba2-1.fna.fbcdn.net/v/t39....           False   \n",
       "11689  https://instagram.flba2-1.fna.fbcdn.net/v/t39....           False   \n",
       "11690  https://instagram.flba2-1.fna.fbcdn.net/v/t39....            True   \n",
       "\n",
       "                username  followers  following  \\\n",
       "0      christendominique  2144626.0     1021.0   \n",
       "1      christendominique  2144626.0     1021.0   \n",
       "2      christendominique  2144626.0     1021.0   \n",
       "3      christendominique  2144626.0     1021.0   \n",
       "4      christendominique  2144626.0     1021.0   \n",
       "...                  ...        ...        ...   \n",
       "11686           m_eye_nd   331373.0      260.0   \n",
       "11687           m_eye_nd   331373.0      260.0   \n",
       "11688           m_eye_nd   331373.0      260.0   \n",
       "11689           m_eye_nd   331373.0      260.0   \n",
       "11690           m_eye_nd   331373.0      260.0   \n",
       "\n",
       "                                        caption_emotions  \\\n",
       "0      {'neg': 0.034616627, 'neu': 0.6108251, 'pos': ...   \n",
       "1      {'neg': 0.17225474, 'neu': 0.5420607, 'pos': 0...   \n",
       "2      {'neg': 0.09999306, 'neu': 0.23255272, 'pos': ...   \n",
       "3      {'neg': 0.14957997, 'neu': 0.6310919, 'pos': 0...   \n",
       "4      {'neg': 0.06114171, 'neu': 0.7887955, 'pos': 0...   \n",
       "...                                                  ...   \n",
       "11686  {'neg': 0.07224331, 'neu': 0.74660265, 'pos': ...   \n",
       "11687  {'neg': 0.06301919, 'neu': 0.59165555, 'pos': ...   \n",
       "11688  {'neg': 0.59099007, 'neu': 0.35064402, 'pos': ...   \n",
       "11689  {'neg': 0.02124086, 'neu': 0.0943668, 'pos': 0...   \n",
       "11690  {'neg': 0.0335089, 'neu': 0.17543155, 'pos': 0...   \n",
       "\n",
       "      most_powerful_emotion  emotion_score  \n",
       "0                       neu       0.610825  \n",
       "1                       neu       0.542061  \n",
       "2                       pos       0.667454  \n",
       "3                       neu       0.631092  \n",
       "4                       neu       0.788795  \n",
       "...                     ...            ...  \n",
       "11686                   neu       0.746603  \n",
       "11687                   neu       0.591656  \n",
       "11688                   neg       0.590990  \n",
       "11689                   pos       0.884392  \n",
       "11690                   pos       0.791060  \n",
       "\n",
       "[9441 rows x 17 columns]"
      ]
     },
     "execution_count": 55,
     "metadata": {},
     "output_type": "execute_result"
    }
   ],
   "source": [
    "data[\"caption_emotions\"], data[\"most_powerful_emotion\"], data[\"emotion_score\"] = zip(*data.apply(emotional_text, axis=1))\n",
    "data.head(1)"
   ]
  },
  {
   "cell_type": "code",
   "execution_count": 57,
   "metadata": {},
   "outputs": [],
   "source": [
    "folder_path = '../2.Data_with_detected_caption_emotions'\n",
    "if not os.path.exists(folder_path):\n",
    "    os.makedirs(folder_path)\n",
    "\n",
    "# Save each DataFrame to a CSV file in the new folder\n",
    "data.to_csv(os.path.join(folder_path, 'Data_with_detected_caption_emotions.csv'), index=False)"
   ]
  },
  {
   "cell_type": "markdown",
   "metadata": {},
   "source": [
    "---"
   ]
  },
  {
   "cell_type": "markdown",
   "metadata": {},
   "source": [
    "# Locational Data\n",
    "data rows with filled location values"
   ]
  },
  {
   "cell_type": "code",
   "execution_count": 58,
   "metadata": {},
   "outputs": [
    {
     "data": {
      "text/html": [
       "<div>\n",
       "<style scoped>\n",
       "    .dataframe tbody tr th:only-of-type {\n",
       "        vertical-align: middle;\n",
       "    }\n",
       "\n",
       "    .dataframe tbody tr th {\n",
       "        vertical-align: top;\n",
       "    }\n",
       "\n",
       "    .dataframe thead th {\n",
       "        text-align: right;\n",
       "    }\n",
       "</style>\n",
       "<table border=\"1\" class=\"dataframe\">\n",
       "  <thead>\n",
       "    <tr style=\"text-align: right;\">\n",
       "      <th></th>\n",
       "      <th>owner_id</th>\n",
       "      <th>owner_username</th>\n",
       "      <th>shortcode</th>\n",
       "      <th>is_video</th>\n",
       "      <th>caption</th>\n",
       "      <th>comments</th>\n",
       "      <th>likes</th>\n",
       "      <th>created_at</th>\n",
       "      <th>location</th>\n",
       "      <th>imageUrl</th>\n",
       "      <th>multiple_images</th>\n",
       "      <th>username</th>\n",
       "      <th>followers</th>\n",
       "      <th>following</th>\n",
       "      <th>caption_emotions</th>\n",
       "      <th>most_powerful_emotion</th>\n",
       "      <th>emotion_score</th>\n",
       "    </tr>\n",
       "  </thead>\n",
       "  <tbody>\n",
       "    <tr>\n",
       "      <th>28</th>\n",
       "      <td>40506412</td>\n",
       "      <td>christinehmcconnell</td>\n",
       "      <td>CzJtDjegmdI</td>\n",
       "      <td>False</td>\n",
       "      <td>Had an amazing time in #salem for Halloween th...</td>\n",
       "      <td>466</td>\n",
       "      <td>79000</td>\n",
       "      <td>1.698945e+09</td>\n",
       "      <td>{'id': '34537076', 'has_public_page': True, 'n...</td>\n",
       "      <td>https://instagram.ffor43-1.fna.fbcdn.net/v/t39...</td>\n",
       "      <td>True</td>\n",
       "      <td>christinehmcconnell</td>\n",
       "      <td>597189.0</td>\n",
       "      <td>1576.0</td>\n",
       "      <td>{'neg': 0.020397255, 'neu': 0.08311723, 'pos':...</td>\n",
       "      <td>pos</td>\n",
       "      <td>0.896486</td>\n",
       "    </tr>\n",
       "  </tbody>\n",
       "</table>\n",
       "</div>"
      ],
      "text/plain": [
       "    owner_id       owner_username    shortcode is_video  \\\n",
       "28  40506412  christinehmcconnell  CzJtDjegmdI    False   \n",
       "\n",
       "                                              caption comments  likes  \\\n",
       "28  Had an amazing time in #salem for Halloween th...      466  79000   \n",
       "\n",
       "      created_at                                           location  \\\n",
       "28  1.698945e+09  {'id': '34537076', 'has_public_page': True, 'n...   \n",
       "\n",
       "                                             imageUrl multiple_images  \\\n",
       "28  https://instagram.ffor43-1.fna.fbcdn.net/v/t39...            True   \n",
       "\n",
       "               username  followers  following  \\\n",
       "28  christinehmcconnell   597189.0     1576.0   \n",
       "\n",
       "                                     caption_emotions most_powerful_emotion  \\\n",
       "28  {'neg': 0.020397255, 'neu': 0.08311723, 'pos':...                   pos   \n",
       "\n",
       "    emotion_score  \n",
       "28       0.896486  "
      ]
     },
     "execution_count": 58,
     "metadata": {},
     "output_type": "execute_result"
    }
   ],
   "source": [
    "locational_data = data.loc[data.location.isna() != True]\n",
    "locational_data.head(1)"
   ]
  },
  {
   "cell_type": "markdown",
   "metadata": {},
   "source": [
    "*`coverting all values to dictionary`*"
   ]
  },
  {
   "cell_type": "code",
   "execution_count": 59,
   "metadata": {},
   "outputs": [],
   "source": [
    "def dict_maker(row):\n",
    "    return ast.literal_eval(row[\"location\"])\n",
    "\n",
    "locational_data[\"location\"] = locational_data.apply(dict_maker, axis=1)"
   ]
  },
  {
   "cell_type": "markdown",
   "metadata": {},
   "source": [
    "*`getting all city names in dictionary, and then replace the final list of city names with current column of location`*"
   ]
  },
  {
   "cell_type": "code",
   "execution_count": 60,
   "metadata": {},
   "outputs": [],
   "source": [
    "location = []\n",
    "for key in locational_data.location:\n",
    "    location.append(key[\"slug\"])\n",
    "\n",
    "# replace old colum with new list\n",
    "locational_data.location = location"
   ]
  },
  {
   "cell_type": "code",
   "execution_count": 61,
   "metadata": {},
   "outputs": [
    {
     "data": {
      "text/html": [
       "<div>\n",
       "<style scoped>\n",
       "    .dataframe tbody tr th:only-of-type {\n",
       "        vertical-align: middle;\n",
       "    }\n",
       "\n",
       "    .dataframe tbody tr th {\n",
       "        vertical-align: top;\n",
       "    }\n",
       "\n",
       "    .dataframe thead th {\n",
       "        text-align: right;\n",
       "    }\n",
       "</style>\n",
       "<table border=\"1\" class=\"dataframe\">\n",
       "  <thead>\n",
       "    <tr style=\"text-align: right;\">\n",
       "      <th></th>\n",
       "      <th>owner_id</th>\n",
       "      <th>owner_username</th>\n",
       "      <th>shortcode</th>\n",
       "      <th>is_video</th>\n",
       "      <th>caption</th>\n",
       "      <th>comments</th>\n",
       "      <th>likes</th>\n",
       "      <th>created_at</th>\n",
       "      <th>location</th>\n",
       "      <th>imageUrl</th>\n",
       "      <th>multiple_images</th>\n",
       "      <th>username</th>\n",
       "      <th>followers</th>\n",
       "      <th>following</th>\n",
       "      <th>caption_emotions</th>\n",
       "      <th>most_powerful_emotion</th>\n",
       "      <th>emotion_score</th>\n",
       "    </tr>\n",
       "  </thead>\n",
       "  <tbody>\n",
       "    <tr>\n",
       "      <th>28</th>\n",
       "      <td>40506412</td>\n",
       "      <td>christinehmcconnell</td>\n",
       "      <td>CzJtDjegmdI</td>\n",
       "      <td>False</td>\n",
       "      <td>Had an amazing time in #salem for Halloween th...</td>\n",
       "      <td>466</td>\n",
       "      <td>79000</td>\n",
       "      <td>1.698945e+09</td>\n",
       "      <td>salem-massachusetts</td>\n",
       "      <td>https://instagram.ffor43-1.fna.fbcdn.net/v/t39...</td>\n",
       "      <td>True</td>\n",
       "      <td>christinehmcconnell</td>\n",
       "      <td>597189.0</td>\n",
       "      <td>1576.0</td>\n",
       "      <td>{'neg': 0.020397255, 'neu': 0.08311723, 'pos':...</td>\n",
       "      <td>pos</td>\n",
       "      <td>0.896486</td>\n",
       "    </tr>\n",
       "  </tbody>\n",
       "</table>\n",
       "</div>"
      ],
      "text/plain": [
       "    owner_id       owner_username    shortcode is_video  \\\n",
       "28  40506412  christinehmcconnell  CzJtDjegmdI    False   \n",
       "\n",
       "                                              caption comments  likes  \\\n",
       "28  Had an amazing time in #salem for Halloween th...      466  79000   \n",
       "\n",
       "      created_at             location  \\\n",
       "28  1.698945e+09  salem-massachusetts   \n",
       "\n",
       "                                             imageUrl multiple_images  \\\n",
       "28  https://instagram.ffor43-1.fna.fbcdn.net/v/t39...            True   \n",
       "\n",
       "               username  followers  following  \\\n",
       "28  christinehmcconnell   597189.0     1576.0   \n",
       "\n",
       "                                     caption_emotions most_powerful_emotion  \\\n",
       "28  {'neg': 0.020397255, 'neu': 0.08311723, 'pos':...                   pos   \n",
       "\n",
       "    emotion_score  \n",
       "28       0.896486  "
      ]
     },
     "execution_count": 61,
     "metadata": {},
     "output_type": "execute_result"
    }
   ],
   "source": [
    "locational_data = locational_data[locational_data['username'].notna()]\n",
    "locational_data.head(1)"
   ]
  },
  {
   "cell_type": "markdown",
   "metadata": {},
   "source": [
    "i will convert this to dataset \"Locational_dataset\" "
   ]
  },
  {
   "cell_type": "code",
   "execution_count": 62,
   "metadata": {},
   "outputs": [
    {
     "data": {
      "text/plain": [
       "owner_id                 0\n",
       "owner_username           0\n",
       "shortcode                0\n",
       "is_video                 0\n",
       "caption                  0\n",
       "comments                 0\n",
       "likes                    0\n",
       "created_at               0\n",
       "location                 0\n",
       "imageUrl                 0\n",
       "multiple_images          0\n",
       "username                 0\n",
       "followers                0\n",
       "following                0\n",
       "caption_emotions         0\n",
       "most_powerful_emotion    0\n",
       "emotion_score            0\n",
       "dtype: int64"
      ]
     },
     "execution_count": 62,
     "metadata": {},
     "output_type": "execute_result"
    }
   ],
   "source": [
    "locational_data.isna().sum()"
   ]
  },
  {
   "cell_type": "code",
   "execution_count": 63,
   "metadata": {},
   "outputs": [
    {
     "data": {
      "text/plain": [
       "(3744, 17)"
      ]
     },
     "execution_count": 63,
     "metadata": {},
     "output_type": "execute_result"
    }
   ],
   "source": [
    "locational_data.shape"
   ]
  },
  {
   "cell_type": "markdown",
   "metadata": {},
   "source": [
    "----"
   ]
  },
  {
   "cell_type": "markdown",
   "metadata": {},
   "source": [
    "# Non-Locational Data"
   ]
  },
  {
   "cell_type": "code",
   "execution_count": 64,
   "metadata": {},
   "outputs": [],
   "source": [
    "nonlocational_data = data.loc[data.username.isna() == False]\n",
    "nonlocational_data.drop(columns=\"location\", inplace=True)"
   ]
  },
  {
   "cell_type": "code",
   "execution_count": 65,
   "metadata": {},
   "outputs": [
    {
     "data": {
      "text/html": [
       "<div>\n",
       "<style scoped>\n",
       "    .dataframe tbody tr th:only-of-type {\n",
       "        vertical-align: middle;\n",
       "    }\n",
       "\n",
       "    .dataframe tbody tr th {\n",
       "        vertical-align: top;\n",
       "    }\n",
       "\n",
       "    .dataframe thead th {\n",
       "        text-align: right;\n",
       "    }\n",
       "</style>\n",
       "<table border=\"1\" class=\"dataframe\">\n",
       "  <thead>\n",
       "    <tr style=\"text-align: right;\">\n",
       "      <th></th>\n",
       "      <th>owner_id</th>\n",
       "      <th>owner_username</th>\n",
       "      <th>shortcode</th>\n",
       "      <th>is_video</th>\n",
       "      <th>caption</th>\n",
       "      <th>comments</th>\n",
       "      <th>likes</th>\n",
       "      <th>created_at</th>\n",
       "      <th>imageUrl</th>\n",
       "      <th>multiple_images</th>\n",
       "      <th>username</th>\n",
       "      <th>followers</th>\n",
       "      <th>following</th>\n",
       "      <th>caption_emotions</th>\n",
       "      <th>most_powerful_emotion</th>\n",
       "      <th>emotion_score</th>\n",
       "    </tr>\n",
       "  </thead>\n",
       "  <tbody>\n",
       "    <tr>\n",
       "      <th>0</th>\n",
       "      <td>36063641</td>\n",
       "      <td>christendominique</td>\n",
       "      <td>C3_GS1ASeWI</td>\n",
       "      <td>False</td>\n",
       "      <td>I’m a brunch &amp; Iced Coffee girlie☕️🍳 \\n\\nTop @...</td>\n",
       "      <td>268</td>\n",
       "      <td>16382</td>\n",
       "      <td>1.709327e+09</td>\n",
       "      <td>https://instagram.flba2-1.fna.fbcdn.net/v/t39....</td>\n",
       "      <td>True</td>\n",
       "      <td>christendominique</td>\n",
       "      <td>2144626.0</td>\n",
       "      <td>1021.0</td>\n",
       "      <td>{'neg': 0.034616627, 'neu': 0.6108251, 'pos': ...</td>\n",
       "      <td>neu</td>\n",
       "      <td>0.610825</td>\n",
       "    </tr>\n",
       "  </tbody>\n",
       "</table>\n",
       "</div>"
      ],
      "text/plain": [
       "   owner_id     owner_username    shortcode is_video  \\\n",
       "0  36063641  christendominique  C3_GS1ASeWI    False   \n",
       "\n",
       "                                             caption comments  likes  \\\n",
       "0  I’m a brunch & Iced Coffee girlie☕️🍳 \\n\\nTop @...      268  16382   \n",
       "\n",
       "     created_at                                           imageUrl  \\\n",
       "0  1.709327e+09  https://instagram.flba2-1.fna.fbcdn.net/v/t39....   \n",
       "\n",
       "  multiple_images           username  followers  following  \\\n",
       "0            True  christendominique  2144626.0     1021.0   \n",
       "\n",
       "                                    caption_emotions most_powerful_emotion  \\\n",
       "0  {'neg': 0.034616627, 'neu': 0.6108251, 'pos': ...                   neu   \n",
       "\n",
       "   emotion_score  \n",
       "0       0.610825  "
      ]
     },
     "execution_count": 65,
     "metadata": {},
     "output_type": "execute_result"
    }
   ],
   "source": [
    "nonlocational_data.head(1)"
   ]
  },
  {
   "cell_type": "code",
   "execution_count": 66,
   "metadata": {},
   "outputs": [
    {
     "data": {
      "text/plain": [
       "owner_id                 0\n",
       "owner_username           0\n",
       "shortcode                0\n",
       "is_video                 0\n",
       "caption                  0\n",
       "comments                 0\n",
       "likes                    0\n",
       "created_at               0\n",
       "imageUrl                 0\n",
       "multiple_images          0\n",
       "username                 0\n",
       "followers                0\n",
       "following                0\n",
       "caption_emotions         0\n",
       "most_powerful_emotion    0\n",
       "emotion_score            0\n",
       "dtype: int64"
      ]
     },
     "execution_count": 66,
     "metadata": {},
     "output_type": "execute_result"
    }
   ],
   "source": [
    "nonlocational_data.isna().sum()"
   ]
  },
  {
   "cell_type": "markdown",
   "metadata": {},
   "source": [
    "---"
   ]
  },
  {
   "cell_type": "markdown",
   "metadata": {},
   "source": [
    "# Exporting Data \n",
    "Exporting Data on csv file in `prepare data` folder"
   ]
  },
  {
   "cell_type": "code",
   "execution_count": 67,
   "metadata": {},
   "outputs": [],
   "source": [
    "folder_path = '../2.Prepared Data'\n",
    "if not os.path.exists(folder_path):\n",
    "    os.makedirs(folder_path)\n",
    "\n",
    "# Save each DataFrame to a CSV file in the new folder\n",
    "nonlocational_data.to_csv(os.path.join(folder_path, 'non_locational_data.csv'), index=False)\n",
    "locational_data.to_csv(os.path.join(folder_path, 'locational_data.csv'), index=False)"
   ]
  }
 ],
 "metadata": {
  "kernelspec": {
   "display_name": "Python 3",
   "language": "python",
   "name": "python3"
  },
  "language_info": {
   "codemirror_mode": {
    "name": "ipython",
    "version": 3
   },
   "file_extension": ".py",
   "mimetype": "text/x-python",
   "name": "python",
   "nbconvert_exporter": "python",
   "pygments_lexer": "ipython3",
   "version": "3.11.0"
  }
 },
 "nbformat": 4,
 "nbformat_minor": 2
}
